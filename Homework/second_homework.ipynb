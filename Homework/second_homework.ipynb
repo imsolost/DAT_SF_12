{
 "metadata": {
  "name": "",
  "signature": "sha256:30c4e0ac8a81084223434b8592568e41cda01de3609cc4acb104d1957bd813c8"
 },
 "nbformat": 3,
 "nbformat_minor": 0,
 "worksheets": [
  {
   "cells": [
    {
     "cell_type": "markdown",
     "metadata": {},
     "source": [
      "## Homework 2 (Due - Feb'17th) - practice Supervised (KNN) and Un-Supervised (Clustering):\n",
      "\n",
      "Follow the steps below to:\n",
      "    - Read `wine.csv` in the data folder.\n",
      "    - We are going to use this dataset to practice Supervised (KNN) and Un-Supervised (Clustering)\n",
      "    \n",
      "### Supervised (KNN)\n",
      "\n",
      "    - Split the data into Train and Test (30%) using random_state of 42 (so that we all get same results)\n",
      "    - Using KNN, can you predict the Wine class in test\n",
      "    - How Accurate is your prediction\n",
      "    \n",
      "### Un-Supervised (Clustering)\n",
      "    - The First Column contains the Wine Category.  Don't use it in the models below.  We are going to treat it as unsupervized learning and compare the results to the Wine column.\n",
      "    - Try `KMeans` where `n_clusters = 3` and compare the clusters to the `Wine` column.\n",
      "    - Try `Hierarchical Clustering` and plot dendogram\n",
      "    - Compare the results of `KMeans` with that of Wine Column.  Is Clustering identifying the Wine groups correctly? \n",
      "\n",
      "Note that the Wine group codes will not match between Clustering and Wine Category.  What we are looking for is does all the wines in the cluster fall into the same Wine Category)."
     ]
    },
    {
     "cell_type": "code",
     "collapsed": false,
     "input": [
      "%matplotlib inline\n",
      "from __future__ import division\n",
      "import pandas as pd\n",
      "import numpy as np\n",
      "import pylab as pl\n",
      "from seaborn import plt\n",
      "\n",
      "from matplotlib.colors import ListedColormap\n",
      "from sklearn import neighbors, datasets, feature_selection\n",
      "from sklearn.cross_validation import train_test_split, cross_val_score\n",
      "\n",
      "from sklearn.preprocessing import scale"
     ],
     "language": "python",
     "metadata": {},
     "outputs": [],
     "prompt_number": 14
    },
    {
     "cell_type": "code",
     "collapsed": false,
     "input": [
      "from sklearn.neighbors import KNeighborsClassifier\n",
      "\n",
      "df = pd.read_csv('C:/Users/Baron/temp/Data_Science/DAT_SF_12/data/wine.csv')\n",
      " \n",
      "test_idx = np.random.uniform(0, 1, len(df)) <= 0.3\n",
      "train = df[test_idx==True]\n",
      "test = df[test_idx==False]\n",
      " \n",
      "features = ['Wine', 'Alcohol', 'Malic.acid', 'Ash', 'Acl', 'Mg', 'Phenols', 'Flavanoids', 'Nonflavanoid.phenols', 'Proanth', 'Color.int', 'Hue', 'OD', 'Proline']\n",
      " \n",
      "results = []\n",
      "for n in range(1, 51, 2):\n",
      "    clf = KNeighborsClassifier(n_neighbors=n)\n",
      "    clf.fit(train[features], train['Wine'])\n",
      "    preds = clf.predict(test[features])\n",
      "    accuracy = np.where(preds==test['Wine'], 1, 0).sum() / float(len(test))\n",
      "    print \"Neighbors: %d, Accuracy: %3f\" % (n, accuracy)\n",
      " \n",
      "    results.append([n, accuracy])\n",
      " \n",
      "results = pd.DataFrame(results, columns=[\"n\", \"accuracy\"])\n",
      " \n",
      "pl.plot(results.n, results.accuracy)\n",
      "pl.title(\"Accuracy with Increasing K\")\n",
      "pl.show()"
     ],
     "language": "python",
     "metadata": {},
     "outputs": [
      {
       "output_type": "stream",
       "stream": "stdout",
       "text": [
        "Neighbors: 1, Accuracy: 0.672131\n",
        "Neighbors: 3, Accuracy: 0.663934\n",
        "Neighbors: 5, Accuracy: 0.631148\n",
        "Neighbors: 7, Accuracy: 0.631148"
       ]
      },
      {
       "output_type": "stream",
       "stream": "stdout",
       "text": [
        "\n",
        "Neighbors: 9, Accuracy: 0.631148\n",
        "Neighbors: 11, Accuracy: 0.639344\n",
        "Neighbors: 13, Accuracy: 0.639344"
       ]
      },
      {
       "output_type": "stream",
       "stream": "stdout",
       "text": [
        "\n",
        "Neighbors: 15, Accuracy: 0.647541\n",
        "Neighbors: 17, Accuracy: 0.639344"
       ]
      },
      {
       "output_type": "stream",
       "stream": "stdout",
       "text": [
        "\n",
        "Neighbors: 19, Accuracy: 0.622951\n",
        "Neighbors: 21, Accuracy: 0.631148\n",
        "Neighbors: 23, Accuracy: 0.614754"
       ]
      },
      {
       "output_type": "stream",
       "stream": "stdout",
       "text": [
        "\n",
        "Neighbors: 25, Accuracy: 0.614754\n",
        "Neighbors: 27, Accuracy: 0.622951\n",
        "Neighbors: 29, Accuracy: 0.639344"
       ]
      },
      {
       "output_type": "stream",
       "stream": "stdout",
       "text": [
        "\n",
        "Neighbors: 31, Accuracy: 0.647541\n",
        "Neighbors: 33, Accuracy: 0.631148"
       ]
      },
      {
       "output_type": "stream",
       "stream": "stdout",
       "text": [
        "\n",
        "Neighbors: 35, Accuracy: 0.631148\n",
        "Neighbors: 37, Accuracy: 0.631148"
       ]
      },
      {
       "output_type": "stream",
       "stream": "stdout",
       "text": [
        "\n",
        "Neighbors: 39, Accuracy: 0.622951\n",
        "Neighbors: 41, Accuracy: 0.631148"
       ]
      },
      {
       "output_type": "stream",
       "stream": "stdout",
       "text": [
        "\n",
        "Neighbors: 43, Accuracy: 0.631148\n",
        "Neighbors: 45, Accuracy: 0.631148"
       ]
      },
      {
       "output_type": "stream",
       "stream": "stdout",
       "text": [
        "\n",
        "Neighbors: 47, Accuracy: 0.631148\n",
        "Neighbors: 49, Accuracy: 0.631148\n"
       ]
      },
      {
       "metadata": {},
       "output_type": "display_data",
       "png": "[encoded data removed]",
       "text": [
        "<matplotlib.figure.Figure at 0x18676b00>"
       ]
      }
     ],
     "prompt_number": 28
    },
    {
     "cell_type": "code",
     "collapsed": false,
     "input": [
      "results = []\n",
      "for w in ['uniform', 'distance', lambda x: np.log(x)]:\n",
      "    clf = KNeighborsClassifier(3, weights=w)\n",
      "    w = str(w)\n",
      "    clf.fit(train[features], train['Wine'])\n",
      "    preds = clf.predict(test[features])\n",
      "    accuracy = np.where(preds==test['Wine'], 1, 0).sum() / float(len(test))\n",
      "    print \"Weights: %s, Accuracy: %3f\" % (w, accuracy)\n",
      " \n",
      "    results.append([w, accuracy])\n",
      " \n",
      "results = pd.DataFrame(results, columns=[\"weight_method\", \"accuracy\"])\n",
      "print results"
     ],
     "language": "python",
     "metadata": {},
     "outputs": [
      {
       "output_type": "stream",
       "stream": "stdout",
       "text": [
        "Weights: uniform, Accuracy: 0.675000\n",
        "Weights: distance, Accuracy: 0.700000\n",
        "Weights: <function <lambda> at 0x0000000019F3B668>, Accuracy: 0.675000\n",
        "                               weight_method  accuracy\n",
        "0                                    uniform     0.675\n",
        "1                                   distance     0.700\n",
        "2  <function <lambda> at 0x0000000019F3B668>     0.675\n"
       ]
      }
     ],
     "prompt_number": 27
    },
    {
     "cell_type": "code",
     "collapsed": false,
     "input": [],
     "language": "python",
     "metadata": {},
     "outputs": []
    },
    {
     "cell_type": "code",
     "collapsed": false,
     "input": [],
     "language": "python",
     "metadata": {},
     "outputs": [],
     "prompt_number": 29
    },
    {
     "cell_type": "code",
     "collapsed": false,
     "input": [],
     "language": "python",
     "metadata": {},
     "outputs": []
    }
   ],
   "metadata": {}
  }
 ]
}