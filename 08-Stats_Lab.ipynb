{
 "metadata": {
  "name": "",
  "signature": "sha256:799e00b3f51b825f6ff45b44102d5b10833c391b46ab82622d14b4674a13bed2"
 },
 "nbformat": 3,
 "nbformat_minor": 0,
 "worksheets": [
  {
   "cells": [
    {
     "cell_type": "markdown",
     "metadata": {
      "slideshow": {
       "slide_type": "slide"
      }
     },
     "source": [
      "Lab\n",
      "===================\n",
      "Probability and Statistics\n",
      "-------------------\n",
      "Alessandro D. Gagliardi"
     ]
    },
    {
     "cell_type": "markdown",
     "metadata": {
      "slideshow": {
       "slide_type": "slide"
      }
     },
     "source": [
      "On Groundhog Day, February 2, a famous groundhog in Punxsutawney, PA is used to predict whether a winter will be long or not based on whether or not he sees his shadow. [Jonathan Taylor](http://statweb.stanford.edu/~jtaylo/) collected data on whether he saw his shadow or not from [here](http://www.stormfax.com/ghogday.htm). He stored some of this data in this [table](http://stats191.stanford.edu/data/groundhog.table).\n",
      "\n",
      "Although Phil is on the East Coast,\n",
      "Taylor wondered if the information says anything about whether or not we will experience\n",
      "a rainy winter out here in California. For this, he found rainfall data, and saved it in a \n",
      "[table](http://stats191.stanford.edu/data/rainfall.csv). To see how this was extracted\n",
      "see this [notebook](http://nbviewer.ipython.org/url/www.stanford.edu/class/stats191/notebooks/Rainfall%20data.ipynb).\n",
      "\n",
      "1. Make a boxplot of the average rainfall in Northen California comparing the years Phil sees his shadow versus the years he does not.\n",
      "\n",
      "2. Construct a 90% confidence interval for the difference between the mean rainfall in years Phil sees his shadow and years he does not.\n",
      "\n",
      "3. Interpret the interval in part 2.\n",
      "\n",
      "4. At level, $\\alpha = 0.05$ would you reject the null hypothesis that the average rainfall in Northern California during the month of February was the same in years Phil sees his shadow versus years he does not?\n",
      "\n",
      "5. What assumptions are you making in forming your confidence interval and in your hypothesis test?"
     ]
    },
    {
     "cell_type": "code",
     "collapsed": false,
     "input": [
      "%matplotlib inline\n",
      "import os\n",
      "import matplotlib.pyplot as plt\n",
      "import numpy as np\n",
      "import pandas as pd\n",
      "import statsmodels.api as sm\n",
      "import twitter\n",
      "import yaml\n",
      "from pymongo import MongoClient"
     ],
     "language": "python",
     "metadata": {
      "slideshow": {
       "slide_type": "subslide"
      }
     },
     "outputs": [],
     "prompt_number": 1
    },
    {
     "cell_type": "markdown",
     "metadata": {
      "slideshow": {
       "slide_type": "slide"
      }
     },
     "source": [
      "Part 1\n",
      "------"
     ]
    },
    {
     "cell_type": "code",
     "collapsed": false,
     "input": [
      "rainfall = pd.read_csv('http://stats191.stanford.edu/data/rainfall.csv')\n",
      "groundhog = pd.read_csv('http://stats191.stanford.edu/data/groundhog.table')"
     ],
     "language": "python",
     "metadata": {
      "slideshow": {
       "slide_type": "fragment"
      }
     },
     "outputs": [],
     "prompt_number": 2
    },
    {
     "cell_type": "code",
     "collapsed": false,
     "input": [
      "df = rainfall.merge(groundhog, left_on='WY', right_on='year')[['Total', 'shadow']]"
     ],
     "language": "python",
     "metadata": {},
     "outputs": [],
     "prompt_number": 3
    },
    {
     "cell_type": "code",
     "collapsed": false,
     "input": [
      "df.boxplot(column='Total', by='shadow')"
     ],
     "language": "python",
     "metadata": {},
     "outputs": [
      {
       "metadata": {},
       "output_type": "pyout",
       "prompt_number": 4,
       "text": [
        "<matplotlib.axes._subplots.AxesSubplot at 0x1811e6a0>"
       ]
      },
      {
       "metadata": {},
       "output_type": "display_data",
       "png": "[encoded data removed]",
       "text": [
        "<matplotlib.figure.Figure at 0x1811eba8>"
       ]
      }
     ],
     "prompt_number": 4
    },
    {
     "cell_type": "markdown",
     "metadata": {
      "slideshow": {
       "slide_type": "slide"
      }
     },
     "source": [
      "Part 2\n",
      "------"
     ]
    },
    {
     "cell_type": "code",
     "collapsed": false,
     "input": [
      "mod = sm.OLS.from_formula(\"Total ~ shadow == 'Y'\", df)\n",
      "res = mod.fit()\n",
      "print res.summary(alpha = .1)"
     ],
     "language": "python",
     "metadata": {
      "slideshow": {
       "slide_type": "fragment"
      }
     },
     "outputs": [
      {
       "output_type": "stream",
       "stream": "stdout",
       "text": [
        "                            OLS Regression Results                            \n",
        "==============================================================================\n",
        "Dep. Variable:                  Total   R-squared:                       0.016\n",
        "Model:                            OLS   Adj. R-squared:                 -0.036\n",
        "Method:                 Least Squares   F-statistic:                    0.2996\n",
        "Date:                Tue, 10 Feb 2015   Prob (F-statistic):              0.591\n",
        "Time:                        20:13:58   Log-Likelihood:                -88.568\n",
        "No. Observations:                  21   AIC:                             181.1\n",
        "Df Residuals:                      19   BIC:                             183.2\n",
        "Df Model:                           1                                         \n",
        "=========================================================================================\n",
        "                            coef    std err          t      P>|t|      [90.0% Conf. Int.]\n",
        "-----------------------------------------------------------------------------------------\n",
        "Intercept                56.4160      7.721      7.307      0.000        43.066    69.766\n",
        "shadow == 'Y'[T.True]    -4.8410      8.845     -0.547      0.591       -20.135    10.453\n",
        "==============================================================================\n",
        "Omnibus:                        1.662   Durbin-Watson:                   1.830\n",
        "Prob(Omnibus):                  0.436   Jarque-Bera (JB):                1.276\n",
        "Skew:                           0.403   Prob(JB):                        0.528\n",
        "Kurtosis:                       2.102   Cond. No.                         3.88\n",
        "==============================================================================\n"
       ]
      }
     ],
     "prompt_number": 5
    },
    {
     "cell_type": "code",
     "collapsed": false,
     "input": [],
     "language": "python",
     "metadata": {},
     "outputs": []
    },
    {
     "cell_type": "markdown",
     "metadata": {
      "slideshow": {
       "slide_type": "fragment"
      }
     },
     "source": [
      "I report the confidence interval [-20.135, 10.453] for the difference between the `shadow == 'Y'` and the `shadow == 'N'` means."
     ]
    },
    {
     "cell_type": "markdown",
     "metadata": {
      "slideshow": {
       "slide_type": "slide"
      }
     },
     "source": [
      "Part 3\n",
      "------\n",
      "If I repeated this sample of `shadow` and `rainfall` in Northern California (assuming they are IID each year) and I form this confidence interval as `t.test` does. Then, 90% of the intervals will cover the true underlying difference in the rainfall between years the groundhog sees his shadow or not."
     ]
    },
    {
     "cell_type": "markdown",
     "metadata": {
      "slideshow": {
       "slide_type": "slide"
      }
     },
     "source": [
      "Part 4\n",
      "------\n",
      "As the reported $p$-value is 0.591, I fail to reject the null hypothesis at the 5% level."
     ]
    },
    {
     "cell_type": "markdown",
     "metadata": {
      "slideshow": {
       "slide_type": "slide"
      }
     },
     "source": [
      "Part 5\n",
      "------\n",
      "I am assuming that the `rainfall` measurements are independent $N(\\mu_i,\\sigma^2)$ where $\\mu_i=\\mu_N$ in the `shadow == 'N'` years and $\\mu_i=\\mu_Y$ in the `shadow == 'Y'` years."
     ]
    },
    {
     "cell_type": "markdown",
     "metadata": {},
     "source": [
      "---"
     ]
    },
    {
     "cell_type": "markdown",
     "metadata": {
      "slideshow": {
       "slide_type": "slide"
      }
     },
     "source": [
      "1-2 Pairs\n",
      "========\n",
      "\n",
      "Use `enron.db` from Lab 2. It can be found in the data folder.\n",
      "\n",
      "1. Create a boxplot of the message recipient count (`MAX(rno)`), splitting the data based on the `seniority` of the sender.\n",
      "\n",
      "2. Compute the sample mean and standard deviation in the three groups.\n",
      "\n",
      "3. Create a histogram of the recipient count within each group.\n",
      "\n",
      "4. Compute a 90% confidence interval for the difference in recipient count between the two groups. What is a problem with this? How might you fix it?\n",
      "\n",
      "5. At level $\\alpha=5\\%$, test the null hypothesis that the average recipient count does not differ between the two groups. What assumptions are you making? What can you conclude?"
     ]
    },
    {
     "cell_type": "markdown",
     "metadata": {
      "slideshow": {
       "slide_type": "fragment"
      }
     },
     "source": [
      "On your own\n",
      "=========\n",
      "\n"
     ]
    },
    {
     "cell_type": "markdown",
     "metadata": {},
     "source": [
      "Start with the Twitter data on US and Canada trends from Lab 3.\n",
      "\n",
      "1. Create a histogram of `text_len` within each group. (Use `alpha = 0.5` to overlay them.)\n",
      "\n",
      "2. Compute the sample mean and standard deviation in the two groups.\n",
      "\n",
      "3. Create a `DataFrame` concatenating data from each collection adding a `country` column to distinguish US from Canada.  \n",
      "    i.e. given `ca_text_len` and `us_text_len` as `Series` containing the length of each text in the Canadian and US collections respectively:\n",
      "\n",
      "    ```python\n",
      "    text_len_df = pd.concat([pd.DataFrame({'text_len': ca_text_len, 'country': 'CA'}), \n",
      "                             pd.DataFrame({'text_len': us_text_len, 'country': 'US'})])\n",
      "    ```\n",
      "\n",
      "4. Use this `DataFrame` to create a `boxplot` of the `text_len` by `country`.\n",
      "\n",
      "5. Use `OLS` to compute a 90% confidence interval for the difference in `text_len` between the two groups. Name a problem with describing the confidence interval of tweet length in this way.\n",
      "\n",
      "5. At level $\\alpha=5\\%$, test the null hypothesis that the average text length does not differ between the two groups. What can you conclude?\n",
      "\n",
      "6. Repeat the above steps but pick your own tags and try to find a pair with a more significant difference."
     ]
    },
    {
     "cell_type": "markdown",
     "metadata": {},
     "source": [
      "---"
     ]
    },
    {
     "cell_type": "code",
     "collapsed": false,
     "input": [
      "import sqlite3\n",
      "import pandas as pd\n",
      "conn = sqlite3.connect('enron.db')"
     ],
     "language": "python",
     "metadata": {},
     "outputs": [],
     "prompt_number": 6
    },
    {
     "cell_type": "code",
     "collapsed": false,
     "input": [
      "df = pd.read_sql(\"\"\"SELECT seniority, MAX(rno) AS max_rno\n",
      "                     FROM EmployeeBase \n",
      "                     JOIN MessageBase ON eid = from_eid \n",
      "                     JOIN RecipientBase USING(mid) \n",
      "                     GROUP BY name \"\"\", conn)\n",
      "\n",
      "df.head(10)"
     ],
     "language": "python",
     "metadata": {},
     "outputs": [
      {
       "html": [
        "<div style=\"max-height:1000px;max-width:1500px;overflow:auto;\">\n",
        "<table border=\"1\" class=\"dataframe\">\n",
        "  <thead>\n",
        "    <tr style=\"text-align: right;\">\n",
        "      <th></th>\n",
        "      <th>seniority</th>\n",
        "      <th>max_rno</th>\n",
        "    </tr>\n",
        "  </thead>\n",
        "  <tbody>\n",
        "    <tr>\n",
        "      <th>0</th>\n",
        "      <td> Senior</td>\n",
        "      <td>  7</td>\n",
        "    </tr>\n",
        "    <tr>\n",
        "      <th>1</th>\n",
        "      <td> Senior</td>\n",
        "      <td>  2</td>\n",
        "    </tr>\n",
        "    <tr>\n",
        "      <th>2</th>\n",
        "      <td> Senior</td>\n",
        "      <td> 12</td>\n",
        "    </tr>\n",
        "    <tr>\n",
        "      <th>3</th>\n",
        "      <td> Senior</td>\n",
        "      <td>  5</td>\n",
        "    </tr>\n",
        "    <tr>\n",
        "      <th>4</th>\n",
        "      <td> Junior</td>\n",
        "      <td>  1</td>\n",
        "    </tr>\n",
        "    <tr>\n",
        "      <th>5</th>\n",
        "      <td> Junior</td>\n",
        "      <td>  2</td>\n",
        "    </tr>\n",
        "    <tr>\n",
        "      <th>6</th>\n",
        "      <td> Junior</td>\n",
        "      <td>  6</td>\n",
        "    </tr>\n",
        "    <tr>\n",
        "      <th>7</th>\n",
        "      <td> Junior</td>\n",
        "      <td> 11</td>\n",
        "    </tr>\n",
        "    <tr>\n",
        "      <th>8</th>\n",
        "      <td> Senior</td>\n",
        "      <td>  5</td>\n",
        "    </tr>\n",
        "    <tr>\n",
        "      <th>9</th>\n",
        "      <td> Junior</td>\n",
        "      <td>  6</td>\n",
        "    </tr>\n",
        "  </tbody>\n",
        "</table>\n",
        "</div>"
       ],
       "metadata": {},
       "output_type": "pyout",
       "prompt_number": 41,
       "text": [
        "  seniority  max_rno\n",
        "0    Senior        7\n",
        "1    Senior        2\n",
        "2    Senior       12\n",
        "3    Senior        5\n",
        "4    Junior        1\n",
        "5    Junior        2\n",
        "6    Junior        6\n",
        "7    Junior       11\n",
        "8    Senior        5\n",
        "9    Junior        6"
       ]
      }
     ],
     "prompt_number": 41
    },
    {
     "cell_type": "code",
     "collapsed": false,
     "input": [
      "df.boxplot(column='max_rno', by='seniority')"
     ],
     "language": "python",
     "metadata": {},
     "outputs": [
      {
       "metadata": {},
       "output_type": "pyout",
       "prompt_number": 42,
       "text": [
        "<matplotlib.axes._subplots.AxesSubplot at 0x19eefc18>"
       ]
      },
      {
       "metadata": {},
       "output_type": "display_data",
       "png": "[encoded data removed]",
       "text": [
        "<matplotlib.figure.Figure at 0x19dff828>"
       ]
      }
     ],
     "prompt_number": 42
    },
    {
     "cell_type": "code",
     "collapsed": false,
     "input": [
      "junior = df.max_rno[df.seniority=='Junior']\n",
      "senior = df.max_rno[df.seniority=='Senior']\n",
      "junior.mean(), senior.mean()"
     ],
     "language": "python",
     "metadata": {},
     "outputs": [
      {
       "metadata": {},
       "output_type": "pyout",
       "prompt_number": 43,
       "text": [
        "(5.3974358974358978, 8.9324324324324316)"
       ]
      }
     ],
     "prompt_number": 43
    },
    {
     "cell_type": "code",
     "collapsed": false,
     "input": [
      "senior.hist()"
     ],
     "language": "python",
     "metadata": {},
     "outputs": [
      {
       "metadata": {},
       "output_type": "pyout",
       "prompt_number": 50,
       "text": [
        "<matplotlib.axes._subplots.AxesSubplot at 0x1ac18358>"
       ]
      },
      {
       "metadata": {},
       "output_type": "display_data",
       "png": "[encoded data removed]",
       "text": [
        "<matplotlib.figure.Figure at 0x1ad05be0>"
       ]
      }
     ],
     "prompt_number": 50
    },
    {
     "cell_type": "code",
     "collapsed": false,
     "input": [
      "junior.hist()"
     ],
     "language": "python",
     "metadata": {},
     "outputs": [
      {
       "metadata": {},
       "output_type": "pyout",
       "prompt_number": 51,
       "text": [
        "<matplotlib.axes._subplots.AxesSubplot at 0x1ad14c88>"
       ]
      },
      {
       "metadata": {},
       "output_type": "display_data",
       "png": "[encoded data removed]",
       "text": [
        "<matplotlib.figure.Figure at 0x1afe66d8>"
       ]
      }
     ],
     "prompt_number": 51
    },
    {
     "cell_type": "code",
     "collapsed": false,
     "input": [
      "smod = sm.OLS.from_formula(\"max_rno ~ seniority == 'Senior'\", df)\n",
      "res = smod.fit()\n",
      "print res.summary(alpha = .05)"
     ],
     "language": "python",
     "metadata": {},
     "outputs": [
      {
       "output_type": "stream",
       "stream": "stdout",
       "text": [
        "                            OLS Regression Results                            \n",
        "==============================================================================\n",
        "Dep. Variable:                max_rno   R-squared:                       0.049\n",
        "Model:                            OLS   Adj. R-squared:                  0.043\n",
        "Method:                 Least Squares   F-statistic:                     7.805\n",
        "Date:                Tue, 10 Feb 2015   Prob (F-statistic):            0.00589\n",
        "Time:                        21:18:01   Log-Likelihood:                -526.84\n",
        "No. Observations:                 152   AIC:                             1058.\n",
        "Df Residuals:                     150   BIC:                             1064.\n",
        "Df Model:                           1                                         \n",
        "=================================================================================================\n",
        "                                    coef    std err          t      P>|t|      [95.0% Conf. Int.]\n",
        "-------------------------------------------------------------------------------------------------\n",
        "Intercept                         5.3974      0.883      6.114      0.000         3.653     7.142\n",
        "seniority == 'Senior'[T.True]     3.5350      1.265      2.794      0.006         1.035     6.035\n",
        "==============================================================================\n",
        "Omnibus:                      152.587   Durbin-Watson:                   2.256\n",
        "Prob(Omnibus):                  0.000   Jarque-Bera (JB):             2499.292\n",
        "Skew:                           3.771   Prob(JB):                         0.00\n",
        "Kurtosis:                      21.378   Cond. No.                         2.59\n",
        "==============================================================================\n"
       ]
      }
     ],
     "prompt_number": 60
    },
    {
     "cell_type": "code",
     "collapsed": false,
     "input": [
      "jmod = sm.OLS.from_formula(\"max_rno ~ seniority == 'Junior'\", df)\n",
      "res = jmod.fit()\n",
      "print res.summary(alpha = .05)"
     ],
     "language": "python",
     "metadata": {},
     "outputs": [
      {
       "output_type": "stream",
       "stream": "stdout",
       "text": [
        "                            OLS Regression Results                            \n",
        "==============================================================================\n",
        "Dep. Variable:                max_rno   R-squared:                       0.049\n",
        "Model:                            OLS   Adj. R-squared:                  0.043\n",
        "Method:                 Least Squares   F-statistic:                     7.805\n",
        "Date:                Tue, 10 Feb 2015   Prob (F-statistic):            0.00589\n",
        "Time:                        21:18:05   Log-Likelihood:                -526.84\n",
        "No. Observations:                 152   AIC:                             1058.\n",
        "Df Residuals:                     150   BIC:                             1064.\n",
        "Df Model:                           1                                         \n",
        "=================================================================================================\n",
        "                                    coef    std err          t      P>|t|      [95.0% Conf. Int.]\n",
        "-------------------------------------------------------------------------------------------------\n",
        "Intercept                         8.9324      0.906      9.855      0.000         7.141    10.723\n",
        "seniority == 'Junior'[T.True]    -3.5350      1.265     -2.794      0.006        -6.035    -1.035\n",
        "==============================================================================\n",
        "Omnibus:                      152.587   Durbin-Watson:                   2.256\n",
        "Prob(Omnibus):                  0.000   Jarque-Bera (JB):             2499.292\n",
        "Skew:                           3.771   Prob(JB):                         0.00\n",
        "Kurtosis:                      21.378   Cond. No.                         2.65\n",
        "==============================================================================\n"
       ]
      }
     ],
     "prompt_number": 61
    },
    {
     "cell_type": "code",
     "collapsed": false,
     "input": [
      "#it is likely that the recipient count differs between the two groups"
     ],
     "language": "python",
     "metadata": {},
     "outputs": []
    }
   ],
   "metadata": {}
  }
 ]
}