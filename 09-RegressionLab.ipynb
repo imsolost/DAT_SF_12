{
 "metadata": {
  "name": "",
  "signature": "sha256:84beb0781a71a6c284b574fe553fbb147b5c8f389f891d745dcc6b9a243ea6d6"
 },
 "nbformat": 3,
 "nbformat_minor": 0,
 "worksheets": [
  {
   "cells": [
    {
     "cell_type": "markdown",
     "metadata": {
      "slideshow": {
       "slide_type": "slide"
      }
     },
     "source": [
      "Lab\n",
      "==========================\n",
      "Multiple Linear Regression\n",
      "--------------------------\n",
      "Alessandro D. Gagliardi"
     ]
    },
    {
     "cell_type": "code",
     "collapsed": false,
     "input": [
      "%matplotlib inline\n",
      "\n",
      "from __future__ import division\n",
      "\n",
      "import pandas as pd\n",
      "import scipy.stats as stats\n",
      "import seaborn as sns\n",
      "import statsmodels.formula.api as smf\n",
      "from seaborn import plt"
     ],
     "language": "python",
     "metadata": {
      "slideshow": {
       "slide_type": "slide"
      }
     },
     "outputs": [],
     "prompt_number": 1
    },
    {
     "cell_type": "markdown",
     "metadata": {
      "slideshow": {
       "slide_type": "slide"
      }
     },
     "source": [
      "this dataset shows a set of six numeric survey responses $X_i$ (survey responses)  \n",
      "and a dependent variable $Y$ (perceived supervisor quality)  \n",
      "we want to predict $Y$ from the $X$'s  "
     ]
    },
    {
     "cell_type": "code",
     "collapsed": false,
     "input": [
      "x = pd.read_table('http://www.ats.ucla.edu/stat/examples/chp/p054.txt')\n",
      "x.head()"
     ],
     "language": "python",
     "metadata": {
      "slideshow": {
       "slide_type": "fragment"
      }
     },
     "outputs": [
      {
       "html": [
        "<div style=\"max-height:1000px;max-width:1500px;overflow:auto;\">\n",
        "<table border=\"1\" class=\"dataframe\">\n",
        "  <thead>\n",
        "    <tr style=\"text-align: right;\">\n",
        "      <th></th>\n",
        "      <th>Y </th>\n",
        "      <th>X1 </th>\n",
        "      <th>X2 </th>\n",
        "      <th>X3 </th>\n",
        "      <th>X4 </th>\n",
        "      <th>X5 </th>\n",
        "      <th>X6 </th>\n",
        "    </tr>\n",
        "  </thead>\n",
        "  <tbody>\n",
        "    <tr>\n",
        "      <th>0</th>\n",
        "      <td> 43</td>\n",
        "      <td> 51</td>\n",
        "      <td> 30</td>\n",
        "      <td> 39</td>\n",
        "      <td> 61</td>\n",
        "      <td> 92</td>\n",
        "      <td> 45</td>\n",
        "    </tr>\n",
        "    <tr>\n",
        "      <th>1</th>\n",
        "      <td> 63</td>\n",
        "      <td> 64</td>\n",
        "      <td> 51</td>\n",
        "      <td> 54</td>\n",
        "      <td> 63</td>\n",
        "      <td> 73</td>\n",
        "      <td> 47</td>\n",
        "    </tr>\n",
        "    <tr>\n",
        "      <th>2</th>\n",
        "      <td> 71</td>\n",
        "      <td> 70</td>\n",
        "      <td> 68</td>\n",
        "      <td> 69</td>\n",
        "      <td> 76</td>\n",
        "      <td> 86</td>\n",
        "      <td> 48</td>\n",
        "    </tr>\n",
        "    <tr>\n",
        "      <th>3</th>\n",
        "      <td> 61</td>\n",
        "      <td> 63</td>\n",
        "      <td> 45</td>\n",
        "      <td> 47</td>\n",
        "      <td> 54</td>\n",
        "      <td> 84</td>\n",
        "      <td> 35</td>\n",
        "    </tr>\n",
        "    <tr>\n",
        "      <th>4</th>\n",
        "      <td> 81</td>\n",
        "      <td> 78</td>\n",
        "      <td> 56</td>\n",
        "      <td> 66</td>\n",
        "      <td> 71</td>\n",
        "      <td> 83</td>\n",
        "      <td> 47</td>\n",
        "    </tr>\n",
        "  </tbody>\n",
        "</table>\n",
        "</div>"
       ],
       "metadata": {},
       "output_type": "pyout",
       "prompt_number": 2,
       "text": [
        "   Y   X1   X2   X3   X4   X5   X6 \n",
        "0  43   51   30   39   61   92   45\n",
        "1  63   64   51   54   63   73   47\n",
        "2  71   70   68   69   76   86   48\n",
        "3  61   63   45   47   54   84   35\n",
        "4  81   78   56   66   71   83   47"
       ]
      }
     ],
     "prompt_number": 2
    },
    {
     "cell_type": "code",
     "collapsed": false,
     "input": [
      "x.columns"
     ],
     "language": "python",
     "metadata": {},
     "outputs": [
      {
       "metadata": {},
       "output_type": "pyout",
       "prompt_number": 3,
       "text": [
        "Index([u'Y ', u'X1 ', u'X2 ', u'X3 ', u'X4 ', u'X5 ', u'X6 '], dtype='object')"
       ]
      }
     ],
     "prompt_number": 3
    },
    {
     "cell_type": "markdown",
     "metadata": {
      "slideshow": {
       "slide_type": "subslide"
      }
     },
     "source": [
      "the column names have trailing whitespace, so I fix that by mapping `str.strip` onto the `columns`' names."
     ]
    },
    {
     "cell_type": "code",
     "collapsed": false,
     "input": [
      "x.columns = x.columns.map(str.strip)"
     ],
     "language": "python",
     "metadata": {},
     "outputs": [],
     "prompt_number": 4
    },
    {
     "cell_type": "code",
     "collapsed": false,
     "input": [
      "x.columns"
     ],
     "language": "python",
     "metadata": {},
     "outputs": [
      {
       "metadata": {},
       "output_type": "pyout",
       "prompt_number": 5,
       "text": [
        "Index([u'Y', u'X1', u'X2', u'X3', u'X4', u'X5', u'X6'], dtype='object')"
       ]
      }
     ],
     "prompt_number": 5
    },
    {
     "cell_type": "markdown",
     "metadata": {
      "slideshow": {
       "slide_type": "slide"
      }
     },
     "source": [
      "this set of scatterplots gives us an idea of the pairwise relationships present in the dataset"
     ]
    },
    {
     "cell_type": "code",
     "collapsed": false,
     "input": [
      "sns.pairplot(x, size = 1.2, aspect=1.75)"
     ],
     "language": "python",
     "metadata": {},
     "outputs": [
      {
       "ename": "AttributeError",
       "evalue": "max must be larger than min in range parameter.",
       "output_type": "pyerr",
       "traceback": [
        "\u001b[1;31m---------------------------------------------------------------------------\u001b[0m\n\u001b[1;31mAttributeError\u001b[0m                            Traceback (most recent call last)",
        "\u001b[1;32m<ipython-input-7-01f7d42762ec>\u001b[0m in \u001b[0;36m<module>\u001b[1;34m()\u001b[0m\n\u001b[1;32m----> 1\u001b[1;33m \u001b[0msns\u001b[0m\u001b[1;33m.\u001b[0m\u001b[0mpairplot\u001b[0m\u001b[1;33m(\u001b[0m\u001b[0mx\u001b[0m\u001b[1;33m,\u001b[0m \u001b[0msize\u001b[0m \u001b[1;33m=\u001b[0m \u001b[1;36m1.2\u001b[0m\u001b[1;33m,\u001b[0m \u001b[0maspect\u001b[0m\u001b[1;33m=\u001b[0m\u001b[1;36m1.75\u001b[0m\u001b[1;33m)\u001b[0m\u001b[1;33m\u001b[0m\u001b[0m\n\u001b[0m",
        "\u001b[1;32mC:\\Users\\Baron\\Anaconda\\lib\\site-packages\\seaborn\\linearmodels.pyc\u001b[0m in \u001b[0;36mpairplot\u001b[1;34m(data, hue, hue_order, palette, vars, x_vars, y_vars, kind, diag_kind, markers, size, aspect, dropna, plot_kws, diag_kws, grid_kws)\u001b[0m\n\u001b[0;32m   1737\u001b[0m     \u001b[1;32mif\u001b[0m \u001b[0mgrid\u001b[0m\u001b[1;33m.\u001b[0m\u001b[0msquare_grid\u001b[0m\u001b[1;33m:\u001b[0m\u001b[1;33m\u001b[0m\u001b[0m\n\u001b[0;32m   1738\u001b[0m         \u001b[1;32mif\u001b[0m \u001b[0mdiag_kind\u001b[0m \u001b[1;33m==\u001b[0m \u001b[1;34m\"hist\"\u001b[0m\u001b[1;33m:\u001b[0m\u001b[1;33m\u001b[0m\u001b[0m\n\u001b[1;32m-> 1739\u001b[1;33m             \u001b[0mgrid\u001b[0m\u001b[1;33m.\u001b[0m\u001b[0mmap_diag\u001b[0m\u001b[1;33m(\u001b[0m\u001b[0mplt\u001b[0m\u001b[1;33m.\u001b[0m\u001b[0mhist\u001b[0m\u001b[1;33m,\u001b[0m \u001b[1;33m**\u001b[0m\u001b[0mdiag_kws\u001b[0m\u001b[1;33m)\u001b[0m\u001b[1;33m\u001b[0m\u001b[0m\n\u001b[0m\u001b[0;32m   1740\u001b[0m         \u001b[1;32melif\u001b[0m \u001b[0mdiag_kind\u001b[0m \u001b[1;33m==\u001b[0m \u001b[1;34m\"kde\"\u001b[0m\u001b[1;33m:\u001b[0m\u001b[1;33m\u001b[0m\u001b[0m\n\u001b[0;32m   1741\u001b[0m             \u001b[0mdiag_kws\u001b[0m\u001b[1;33m[\u001b[0m\u001b[1;34m\"legend\"\u001b[0m\u001b[1;33m]\u001b[0m \u001b[1;33m=\u001b[0m \u001b[0mFalse\u001b[0m\u001b[1;33m\u001b[0m\u001b[0m\n",
        "\u001b[1;32mC:\\Users\\Baron\\Anaconda\\lib\\site-packages\\seaborn\\axisgrid.pyc\u001b[0m in \u001b[0;36mmap_diag\u001b[1;34m(self, func, **kwargs)\u001b[0m\n\u001b[0;32m    947\u001b[0m                 \u001b[0mvals\u001b[0m \u001b[1;33m=\u001b[0m \u001b[1;33m[\u001b[0m\u001b[0mv\u001b[0m\u001b[1;33m.\u001b[0m\u001b[0mvalues\u001b[0m \u001b[1;32mfor\u001b[0m \u001b[0mg\u001b[0m\u001b[1;33m,\u001b[0m \u001b[0mv\u001b[0m \u001b[1;32min\u001b[0m \u001b[0mhue_grouped\u001b[0m\u001b[1;33m]\u001b[0m\u001b[1;33m\u001b[0m\u001b[0m\n\u001b[0;32m    948\u001b[0m                 func(vals, color=self.palette, histtype=\"barstacked\",\n\u001b[1;32m--> 949\u001b[1;33m                      **kwargs)\n\u001b[0m\u001b[0;32m    950\u001b[0m             \u001b[1;32melse\u001b[0m\u001b[1;33m:\u001b[0m\u001b[1;33m\u001b[0m\u001b[0m\n\u001b[0;32m    951\u001b[0m                 \u001b[1;32mfor\u001b[0m \u001b[0mk\u001b[0m\u001b[1;33m,\u001b[0m \u001b[1;33m(\u001b[0m\u001b[0mlabel_k\u001b[0m\u001b[1;33m,\u001b[0m \u001b[0mdata_k\u001b[0m\u001b[1;33m)\u001b[0m \u001b[1;32min\u001b[0m \u001b[0menumerate\u001b[0m\u001b[1;33m(\u001b[0m\u001b[0mhue_grouped\u001b[0m\u001b[1;33m)\u001b[0m\u001b[1;33m:\u001b[0m\u001b[1;33m\u001b[0m\u001b[0m\n",
        "\u001b[1;32mC:\\Users\\Baron\\Anaconda\\lib\\site-packages\\matplotlib\\pyplot.pyc\u001b[0m in \u001b[0;36mhist\u001b[1;34m(x, bins, range, normed, weights, cumulative, bottom, histtype, align, orientation, rwidth, log, color, label, stacked, hold, **kwargs)\u001b[0m\n\u001b[0;32m   2888\u001b[0m                       \u001b[0mhisttype\u001b[0m\u001b[1;33m=\u001b[0m\u001b[0mhisttype\u001b[0m\u001b[1;33m,\u001b[0m \u001b[0malign\u001b[0m\u001b[1;33m=\u001b[0m\u001b[0malign\u001b[0m\u001b[1;33m,\u001b[0m \u001b[0morientation\u001b[0m\u001b[1;33m=\u001b[0m\u001b[0morientation\u001b[0m\u001b[1;33m,\u001b[0m\u001b[1;33m\u001b[0m\u001b[0m\n\u001b[0;32m   2889\u001b[0m                       \u001b[0mrwidth\u001b[0m\u001b[1;33m=\u001b[0m\u001b[0mrwidth\u001b[0m\u001b[1;33m,\u001b[0m \u001b[0mlog\u001b[0m\u001b[1;33m=\u001b[0m\u001b[0mlog\u001b[0m\u001b[1;33m,\u001b[0m \u001b[0mcolor\u001b[0m\u001b[1;33m=\u001b[0m\u001b[0mcolor\u001b[0m\u001b[1;33m,\u001b[0m \u001b[0mlabel\u001b[0m\u001b[1;33m=\u001b[0m\u001b[0mlabel\u001b[0m\u001b[1;33m,\u001b[0m\u001b[1;33m\u001b[0m\u001b[0m\n\u001b[1;32m-> 2890\u001b[1;33m                       stacked=stacked, **kwargs)\n\u001b[0m\u001b[0;32m   2891\u001b[0m         \u001b[0mdraw_if_interactive\u001b[0m\u001b[1;33m(\u001b[0m\u001b[1;33m)\u001b[0m\u001b[1;33m\u001b[0m\u001b[0m\n\u001b[0;32m   2892\u001b[0m     \u001b[1;32mfinally\u001b[0m\u001b[1;33m:\u001b[0m\u001b[1;33m\u001b[0m\u001b[0m\n",
        "\u001b[1;32mC:\\Users\\Baron\\Anaconda\\lib\\site-packages\\matplotlib\\axes\\_axes.pyc\u001b[0m in \u001b[0;36mhist\u001b[1;34m(self, x, bins, range, normed, weights, cumulative, bottom, histtype, align, orientation, rwidth, log, color, label, stacked, **kwargs)\u001b[0m\n\u001b[0;32m   5634\u001b[0m             \u001b[1;31m# this will automatically overwrite bins,\u001b[0m\u001b[1;33m\u001b[0m\u001b[1;33m\u001b[0m\u001b[0m\n\u001b[0;32m   5635\u001b[0m             \u001b[1;31m# so that each histogram uses the same bins\u001b[0m\u001b[1;33m\u001b[0m\u001b[1;33m\u001b[0m\u001b[0m\n\u001b[1;32m-> 5636\u001b[1;33m             \u001b[0mm\u001b[0m\u001b[1;33m,\u001b[0m \u001b[0mbins\u001b[0m \u001b[1;33m=\u001b[0m \u001b[0mnp\u001b[0m\u001b[1;33m.\u001b[0m\u001b[0mhistogram\u001b[0m\u001b[1;33m(\u001b[0m\u001b[0mx\u001b[0m\u001b[1;33m[\u001b[0m\u001b[0mi\u001b[0m\u001b[1;33m]\u001b[0m\u001b[1;33m,\u001b[0m \u001b[0mbins\u001b[0m\u001b[1;33m,\u001b[0m \u001b[0mweights\u001b[0m\u001b[1;33m=\u001b[0m\u001b[0mw\u001b[0m\u001b[1;33m[\u001b[0m\u001b[0mi\u001b[0m\u001b[1;33m]\u001b[0m\u001b[1;33m,\u001b[0m \u001b[1;33m**\u001b[0m\u001b[0mhist_kwargs\u001b[0m\u001b[1;33m)\u001b[0m\u001b[1;33m\u001b[0m\u001b[0m\n\u001b[0m\u001b[0;32m   5637\u001b[0m             \u001b[0mm\u001b[0m \u001b[1;33m=\u001b[0m \u001b[0mm\u001b[0m\u001b[1;33m.\u001b[0m\u001b[0mastype\u001b[0m\u001b[1;33m(\u001b[0m\u001b[0mfloat\u001b[0m\u001b[1;33m)\u001b[0m  \u001b[1;31m# causes problems later if it's an int\u001b[0m\u001b[1;33m\u001b[0m\u001b[0m\n\u001b[0;32m   5638\u001b[0m             \u001b[1;32mif\u001b[0m \u001b[0mmlast\u001b[0m \u001b[1;32mis\u001b[0m \u001b[0mNone\u001b[0m\u001b[1;33m:\u001b[0m\u001b[1;33m\u001b[0m\u001b[0m\n",
        "\u001b[1;32mC:\\Users\\Baron\\Anaconda\\lib\\site-packages\\numpy\\lib\\function_base.pyc\u001b[0m in \u001b[0;36mhistogram\u001b[1;34m(a, bins, range, normed, weights, density)\u001b[0m\n\u001b[0;32m    174\u001b[0m         \u001b[1;32mif\u001b[0m \u001b[1;33m(\u001b[0m\u001b[0mmn\u001b[0m \u001b[1;33m>\u001b[0m \u001b[0mmx\u001b[0m\u001b[1;33m)\u001b[0m\u001b[1;33m:\u001b[0m\u001b[1;33m\u001b[0m\u001b[0m\n\u001b[0;32m    175\u001b[0m             raise AttributeError(\n\u001b[1;32m--> 176\u001b[1;33m                 'max must be larger than min in range parameter.')\n\u001b[0m\u001b[0;32m    177\u001b[0m \u001b[1;33m\u001b[0m\u001b[0m\n\u001b[0;32m    178\u001b[0m     \u001b[1;32mif\u001b[0m \u001b[1;32mnot\u001b[0m \u001b[0miterable\u001b[0m\u001b[1;33m(\u001b[0m\u001b[0mbins\u001b[0m\u001b[1;33m)\u001b[0m\u001b[1;33m:\u001b[0m\u001b[1;33m\u001b[0m\u001b[0m\n",
        "\u001b[1;31mAttributeError\u001b[0m: max must be larger than min in range parameter."
       ]
      },
      {
       "metadata": {},
       "output_type": "display_data",
       "png": "[encoded data removed]",
       "text": [
        "<matplotlib.figure.Figure at 0x1fbcfb38>"
       ]
      }
     ],
     "prompt_number": 7
    },
    {
     "cell_type": "markdown",
     "metadata": {
      "slideshow": {
       "slide_type": "slide"
      }
     },
     "source": [
      "this linear fit represents the \"full model\"; eg, the fit with all of the independent variables included"
     ]
    },
    {
     "cell_type": "code",
     "collapsed": false,
     "input": [
      "lm = smf.ols('Y ~ X1 + X2 + X3 + X4 + X5 + X6', data=x)\n",
      "fit = lm.fit()\n",
      "print fit.summary()"
     ],
     "language": "python",
     "metadata": {},
     "outputs": [
      {
       "output_type": "stream",
       "stream": "stdout",
       "text": [
        "                            OLS Regression Results                            \n",
        "==============================================================================\n",
        "Dep. Variable:                      Y   R-squared:                       0.733\n",
        "Model:                            OLS   Adj. R-squared:                  0.663\n",
        "Method:                 Least Squares   F-statistic:                     10.50\n",
        "Date:                Thu, 12 Feb 2015   Prob (F-statistic):           1.24e-05\n",
        "Time:                        20:00:03   Log-Likelihood:                -97.250\n",
        "No. Observations:                  30   AIC:                             208.5\n",
        "Df Residuals:                      23   BIC:                             218.3\n",
        "Df Model:                           6                                         \n",
        "==============================================================================\n",
        "                 coef    std err          t      P>|t|      [95.0% Conf. Int.]\n",
        "------------------------------------------------------------------------------\n",
        "Intercept     10.7871     11.589      0.931      0.362       -13.187    34.761\n",
        "X1             0.6132      0.161      3.809      0.001         0.280     0.946\n",
        "X2            -0.0731      0.136     -0.538      0.596        -0.354     0.208\n",
        "X3             0.3203      0.169      1.901      0.070        -0.028     0.669\n",
        "X4             0.0817      0.221      0.369      0.715        -0.376     0.540\n",
        "X5             0.0384      0.147      0.261      0.796        -0.266     0.342\n",
        "X6            -0.2171      0.178     -1.218      0.236        -0.586     0.152\n",
        "==============================================================================\n",
        "Omnibus:                        2.386   Durbin-Watson:                   1.795\n",
        "Prob(Omnibus):                  0.303   Jarque-Bera (JB):                1.255\n",
        "Skew:                          -0.081   Prob(JB):                        0.534\n",
        "Kurtosis:                       2.011   Cond. No.                     1.34e+03\n",
        "==============================================================================\n",
        "\n",
        "Warnings:\n",
        "[1] The condition number is large, 1.34e+03. This might indicate that there are\n",
        "strong multicollinearity or other numerical problems.\n"
       ]
      }
     ],
     "prompt_number": 8
    },
    {
     "cell_type": "markdown",
     "metadata": {
      "slideshow": {
       "slide_type": "slide"
      }
     },
     "source": [
      "remove feature w/ lowest (abs) t score"
     ]
    },
    {
     "cell_type": "code",
     "collapsed": false,
     "input": [
      "fit2 = smf.ols('Y ~ X1 + X2 + X3 + X4 + X6', data=x).fit()\n",
      "print fit2.summary()"
     ],
     "language": "python",
     "metadata": {},
     "outputs": [
      {
       "output_type": "stream",
       "stream": "stdout",
       "text": [
        "                            OLS Regression Results                            \n",
        "==============================================================================\n",
        "Dep. Variable:                      Y   R-squared:                       0.732\n",
        "Model:                            OLS   Adj. R-squared:                  0.676\n",
        "Method:                 Least Squares   F-statistic:                     13.10\n",
        "Date:                Thu, 12 Feb 2015   Prob (F-statistic):           3.28e-06\n",
        "Time:                        20:01:15   Log-Likelihood:                -97.294\n",
        "No. Observations:                  30   AIC:                             206.6\n",
        "Df Residuals:                      24   BIC:                             215.0\n",
        "Df Model:                           5                                         \n",
        "==============================================================================\n",
        "                 coef    std err          t      P>|t|      [95.0% Conf. Int.]\n",
        "------------------------------------------------------------------------------\n",
        "Intercept     12.7979      8.491      1.507      0.145        -4.726    30.322\n",
        "X1             0.6131      0.158      3.885      0.001         0.287     0.939\n",
        "X2            -0.0722      0.133     -0.543      0.592        -0.347     0.202\n",
        "X3             0.3117      0.162      1.924      0.066        -0.023     0.646\n",
        "X4             0.0980      0.208      0.470      0.643        -0.332     0.528\n",
        "X6            -0.2111      0.173     -1.218      0.235        -0.569     0.147\n",
        "==============================================================================\n",
        "Omnibus:                        2.254   Durbin-Watson:                   1.775\n",
        "Prob(Omnibus):                  0.324   Jarque-Bera (JB):                1.239\n",
        "Skew:                          -0.110   Prob(JB):                        0.538\n",
        "Kurtosis:                       2.029   Cond. No.                         871.\n",
        "==============================================================================\n"
       ]
      }
     ],
     "prompt_number": 9
    },
    {
     "cell_type": "markdown",
     "metadata": {
      "slideshow": {
       "slide_type": "fragment"
      }
     },
     "source": [
      "note R-sq decreases slightly, but adj R-sq increases slightly"
     ]
    },
    {
     "cell_type": "markdown",
     "metadata": {
      "slideshow": {
       "slide_type": "fragment"
      }
     },
     "source": [
      "--> increasing bias, decreasing variance"
     ]
    },
    {
     "cell_type": "markdown",
     "metadata": {
      "slideshow": {
       "slide_type": "slide"
      }
     },
     "source": [
      "ditto"
     ]
    },
    {
     "cell_type": "code",
     "collapsed": false,
     "input": [
      "fit3 = smf.ols('Y ~ X1 + X2 + X3 + X6', data=x).fit()\n",
      "print fit3.summary()"
     ],
     "language": "python",
     "metadata": {},
     "outputs": [
      {
       "output_type": "stream",
       "stream": "stdout",
       "text": [
        "                            OLS Regression Results                            \n",
        "==============================================================================\n",
        "Dep. Variable:                      Y   R-squared:                       0.729\n",
        "Model:                            OLS   Adj. R-squared:                  0.686\n",
        "Method:                 Least Squares   F-statistic:                     16.84\n",
        "Date:                Thu, 12 Feb 2015   Prob (F-statistic):           8.13e-07\n",
        "Time:                        20:02:11   Log-Likelihood:                -97.432\n",
        "No. Observations:                  30   AIC:                             204.9\n",
        "Df Residuals:                      25   BIC:                             211.9\n",
        "Df Model:                           4                                         \n",
        "==============================================================================\n",
        "                 coef    std err          t      P>|t|      [95.0% Conf. Int.]\n",
        "------------------------------------------------------------------------------\n",
        "Intercept     14.3035      7.740      1.848      0.076        -1.636    30.243\n",
        "X1             0.6534      0.131      5.006      0.000         0.385     0.922\n",
        "X2            -0.0768      0.131     -0.588      0.562        -0.346     0.192\n",
        "X3             0.3239      0.157      2.058      0.050        -0.000     0.648\n",
        "X6            -0.1715      0.149     -1.151      0.261        -0.478     0.135\n",
        "==============================================================================\n",
        "Omnibus:                        2.565   Durbin-Watson:                   1.820\n",
        "Prob(Omnibus):                  0.277   Jarque-Bera (JB):                1.315\n",
        "Skew:                          -0.107   Prob(JB):                        0.518\n",
        "Kurtosis:                       1.997   Cond. No.                         698.\n",
        "==============================================================================\n"
       ]
      }
     ],
     "prompt_number": 10
    },
    {
     "cell_type": "code",
     "collapsed": false,
     "input": [
      "fit4 = smf.ols('Y ~ X1 + X3 + X6', data=x).fit()\n",
      "print fit4.summary()"
     ],
     "language": "python",
     "metadata": {},
     "outputs": [
      {
       "output_type": "stream",
       "stream": "stdout",
       "text": [
        "                            OLS Regression Results                            \n",
        "==============================================================================\n",
        "Dep. Variable:                      Y   R-squared:                       0.726\n",
        "Model:                            OLS   Adj. R-squared:                  0.694\n",
        "Method:                 Least Squares   F-statistic:                     22.92\n",
        "Date:                Thu, 12 Feb 2015   Prob (F-statistic):           1.81e-07\n",
        "Time:                        20:02:26   Log-Likelihood:                -97.638\n",
        "No. Observations:                  30   AIC:                             203.3\n",
        "Df Residuals:                      26   BIC:                             208.9\n",
        "Df Model:                           3                                         \n",
        "==============================================================================\n",
        "                 coef    std err          t      P>|t|      [95.0% Conf. Int.]\n",
        "------------------------------------------------------------------------------\n",
        "Intercept     13.5777      7.544      1.800      0.084        -1.929    29.084\n",
        "X1             0.6227      0.118      5.271      0.000         0.380     0.866\n",
        "X3             0.3124      0.154      2.026      0.053        -0.005     0.629\n",
        "X6            -0.1870      0.145     -1.291      0.208        -0.485     0.111\n",
        "==============================================================================\n",
        "Omnibus:                        2.856   Durbin-Watson:                   1.938\n",
        "Prob(Omnibus):                  0.240   Jarque-Bera (JB):                1.394\n",
        "Skew:                          -0.121   Prob(JB):                        0.498\n",
        "Kurtosis:                       1.972   Cond. No.                         605.\n",
        "==============================================================================\n"
       ]
      }
     ],
     "prompt_number": 11
    },
    {
     "cell_type": "markdown",
     "metadata": {
      "slideshow": {
       "slide_type": "fragment"
      }
     },
     "source": [
      "stopping criteria met: all featuers have `|t| > 1`"
     ]
    },
    {
     "cell_type": "markdown",
     "metadata": {
      "slideshow": {
       "slide_type": "fragment"
      }
     },
     "source": [
      "$\\rightarrow$ optimal bias-variance point reached"
     ]
    },
    {
     "cell_type": "markdown",
     "metadata": {
      "slideshow": {
       "slide_type": "skip"
      }
     },
     "source": [
      "$\\rightarrow$ Residual standard error (RSE) minimized"
     ]
    },
    {
     "cell_type": "code",
     "collapsed": false,
     "input": [
      "fit5 = smf.ols('Y ~ X1 + X3', data=x).fit()\n",
      "print fit5.summary()"
     ],
     "language": "python",
     "metadata": {
      "slideshow": {
       "slide_type": "slide"
      }
     },
     "outputs": [
      {
       "output_type": "stream",
       "stream": "stdout",
       "text": [
        "                            OLS Regression Results                            \n",
        "==============================================================================\n",
        "Dep. Variable:                      Y   R-squared:                       0.708\n",
        "Model:                            OLS   Adj. R-squared:                  0.686\n",
        "Method:                 Least Squares   F-statistic:                     32.74\n",
        "Date:                Thu, 12 Feb 2015   Prob (F-statistic):           6.06e-08\n",
        "Time:                        20:03:30   Log-Likelihood:                -98.569\n",
        "No. Observations:                  30   AIC:                             203.1\n",
        "Df Residuals:                      27   BIC:                             207.3\n",
        "Df Model:                           2                                         \n",
        "==============================================================================\n",
        "                 coef    std err          t      P>|t|      [95.0% Conf. Int.]\n",
        "------------------------------------------------------------------------------\n",
        "Intercept      9.8709      7.061      1.398      0.174        -4.618    24.359\n",
        "X1             0.6435      0.118      5.432      0.000         0.400     0.887\n",
        "X3             0.2112      0.134      1.571      0.128        -0.065     0.487\n",
        "==============================================================================\n",
        "Omnibus:                        6.448   Durbin-Watson:                   1.958\n",
        "Prob(Omnibus):                  0.040   Jarque-Bera (JB):                1.959\n",
        "Skew:                          -0.041   Prob(JB):                        0.375\n",
        "Kurtosis:                       1.751   Cond. No.                         503.\n",
        "==============================================================================\n"
       ]
      }
     ],
     "prompt_number": 12
    },
    {
     "cell_type": "markdown",
     "metadata": {},
     "source": [
      "note this model is weaker (lower $Adj. R^2$)"
     ]
    },
    {
     "cell_type": "code",
     "collapsed": false,
     "input": [
      "fit6 = smf.ols('Y ~ X1', data=x).fit()\n",
      "print fit6.summary()"
     ],
     "language": "python",
     "metadata": {
      "slideshow": {
       "slide_type": "slide"
      }
     },
     "outputs": [
      {
       "output_type": "stream",
       "stream": "stdout",
       "text": [
        "                            OLS Regression Results                            \n",
        "==============================================================================\n",
        "Dep. Variable:                      Y   R-squared:                       0.681\n",
        "Model:                            OLS   Adj. R-squared:                  0.670\n",
        "Method:                 Least Squares   F-statistic:                     59.86\n",
        "Date:                Thu, 12 Feb 2015   Prob (F-statistic):           1.99e-08\n",
        "Time:                        20:04:19   Log-Likelihood:                -99.882\n",
        "No. Observations:                  30   AIC:                             203.8\n",
        "Df Residuals:                      28   BIC:                             206.6\n",
        "Df Model:                           1                                         \n",
        "==============================================================================\n",
        "                 coef    std err          t      P>|t|      [95.0% Conf. Int.]\n",
        "------------------------------------------------------------------------------\n",
        "Intercept     14.3763      6.620      2.172      0.039         0.816    27.937\n",
        "X1             0.7546      0.098      7.737      0.000         0.555     0.954\n",
        "==============================================================================\n",
        "Omnibus:                        7.462   Durbin-Watson:                   2.245\n",
        "Prob(Omnibus):                  0.024   Jarque-Bera (JB):                2.537\n",
        "Skew:                          -0.331   Prob(JB):                        0.281\n",
        "Kurtosis:                       1.739   Cond. No.                         352.\n",
        "==============================================================================\n"
       ]
      }
     ],
     "prompt_number": 13
    },
    {
     "cell_type": "markdown",
     "metadata": {},
     "source": [
      "ditto"
     ]
    },
    {
     "cell_type": "markdown",
     "metadata": {
      "slideshow": {
       "slide_type": "slide"
      }
     },
     "source": [
      "want to see absence of structure in resid scatterplot (\"gaussian white noise\")"
     ]
    },
    {
     "cell_type": "code",
     "collapsed": false,
     "input": [
      "fit4.resid.plot(style='o', figsize=(12,8))"
     ],
     "language": "python",
     "metadata": {},
     "outputs": [
      {
       "metadata": {},
       "output_type": "pyout",
       "prompt_number": 14,
       "text": [
        "<matplotlib.axes._subplots.AxesSubplot at 0x2427d4a8>"
       ]
      },
      {
       "metadata": {},
       "output_type": "display_data",
       "png": "[encoded data removed]",
       "text": [
        "<matplotlib.figure.Figure at 0x22170668>"
       ]
      }
     ],
     "prompt_number": 14
    },
    {
     "cell_type": "code",
     "collapsed": false,
     "input": [
      "sns.distplot(fit4.resid)"
     ],
     "language": "python",
     "metadata": {},
     "outputs": [
      {
       "metadata": {},
       "output_type": "pyout",
       "prompt_number": 16,
       "text": [
        "<matplotlib.axes._subplots.AxesSubplot at 0x242032e8>"
       ]
      },
      {
       "metadata": {},
       "output_type": "display_data",
       "png": "[encoded data removed]",
       "text": [
        "<matplotlib.figure.Figure at 0x24290128>"
       ]
      }
     ],
     "prompt_number": 16
    },
    {
     "cell_type": "markdown",
     "metadata": {
      "slideshow": {
       "slide_type": "subslide"
      }
     },
     "source": [
      "$\\rightarrow$ this plot looks pretty good; also note that resid quartiles look good"
     ]
    },
    {
     "cell_type": "code",
     "collapsed": false,
     "input": [
      "plt.figure(figsize=(12,8))\n",
      "_ = stats.probplot(fit4.resid, dist=\"norm\", plot=plt)"
     ],
     "language": "python",
     "metadata": {},
     "outputs": [
      {
       "metadata": {},
       "output_type": "display_data",
       "png": "[encoded data removed]",
       "text": [
        "<matplotlib.figure.Figure at 0x244898d0>"
       ]
      }
     ],
     "prompt_number": 17
    },
    {
     "cell_type": "markdown",
     "metadata": {},
     "source": [
      "---"
     ]
    },
    {
     "cell_type": "markdown",
     "metadata": {
      "slideshow": {
       "slide_type": "slide"
      }
     },
     "source": [
      "1-2 Pairs\n",
      "=========\n",
      "(Based on [RABE](http://www.ilr.cornell.edu/~hadi/RABE4/) 3.15)\n",
      "---------\n",
      "A national insurance organization wanted to study the consumption pattern of cigarettes in all 50 states and the District of Columbia. The variables chosen for the study are:\n",
      "\n",
      "* Age: Median age of a person living in a state.\n",
      "\n",
      "* HS: Percentage of people over 25 years of age in a state who had completed high school.\n",
      "\n",
      "* Income: Per capita personal income for a state (income in dollars).\n",
      "\n",
      "* Black: Percentage of blacks living in a state.\n",
      "\n",
      "* Female: Percentage of females living in a state.\n",
      "\n",
      "* Price: Weighted average price (in cents) of a pack ofcigarettes in a state.\n",
      "\n",
      "* Sales: Number of packs of cigarettes sold in a state on a per capita basis.\n",
      "\n",
      "The data can be found at [http://www1.aucegypt.edu/faculty/hadi/RABE5/Data5/P088.txt](http://www1.aucegypt.edu/faculty/hadi/RABE5/Data5/P088.txt).\n",
      "\n",
      "Below, specify the null and alternative hypotheses, the test used, and your conclusion using a 5% level of significance.\n",
      "\n",
      "1. Test the hypothesis that the variable `Female` is not needed in the regression equation relating Sales to the six predictor variables.\n",
      "\n",
      "2. Test the hypothesis that the variables `Female` and `HS` are not needed in the above regression equation.\n",
      "\n",
      "3. Compute a 95% confidence interval for the true regression coefficient of the variable `Income`.\n",
      "\n",
      "4. What percentage of the variation in `Sales` can be accounted for when `Income` is removed from the above regression equation? Which model did you use?"
     ]
    },
    {
     "cell_type": "code",
     "collapsed": false,
     "input": [
      "df = pd.read_table('http://www1.aucegypt.edu/faculty/hadi/RABE5/Data5/P088.txt')\n",
      "df.head()"
     ],
     "language": "python",
     "metadata": {},
     "outputs": [
      {
       "html": [
        "<div style=\"max-height:1000px;max-width:1500px;overflow:auto;\">\n",
        "<table border=\"1\" class=\"dataframe\">\n",
        "  <thead>\n",
        "    <tr style=\"text-align: right;\">\n",
        "      <th></th>\n",
        "      <th>State</th>\n",
        "      <th>Age</th>\n",
        "      <th>HS</th>\n",
        "      <th>Income</th>\n",
        "      <th>Black</th>\n",
        "      <th>Female</th>\n",
        "      <th>Price</th>\n",
        "      <th>Sales</th>\n",
        "    </tr>\n",
        "  </thead>\n",
        "  <tbody>\n",
        "    <tr>\n",
        "      <th>0</th>\n",
        "      <td> AL</td>\n",
        "      <td> 27.0</td>\n",
        "      <td> 41.3</td>\n",
        "      <td> 2948</td>\n",
        "      <td> 26.2</td>\n",
        "      <td> 51.7</td>\n",
        "      <td> 42.7</td>\n",
        "      <td>  89.8</td>\n",
        "    </tr>\n",
        "    <tr>\n",
        "      <th>1</th>\n",
        "      <td> AK</td>\n",
        "      <td> 22.9</td>\n",
        "      <td> 66.7</td>\n",
        "      <td> 4644</td>\n",
        "      <td>  3.0</td>\n",
        "      <td> 45.7</td>\n",
        "      <td> 41.8</td>\n",
        "      <td> 121.3</td>\n",
        "    </tr>\n",
        "    <tr>\n",
        "      <th>2</th>\n",
        "      <td> AZ</td>\n",
        "      <td> 26.3</td>\n",
        "      <td> 58.1</td>\n",
        "      <td> 3665</td>\n",
        "      <td>  3.0</td>\n",
        "      <td> 50.8</td>\n",
        "      <td> 38.5</td>\n",
        "      <td> 115.2</td>\n",
        "    </tr>\n",
        "    <tr>\n",
        "      <th>3</th>\n",
        "      <td> AR</td>\n",
        "      <td> 29.1</td>\n",
        "      <td> 39.9</td>\n",
        "      <td> 2878</td>\n",
        "      <td> 18.3</td>\n",
        "      <td> 51.5</td>\n",
        "      <td> 38.8</td>\n",
        "      <td> 100.3</td>\n",
        "    </tr>\n",
        "    <tr>\n",
        "      <th>4</th>\n",
        "      <td> CA</td>\n",
        "      <td> 28.1</td>\n",
        "      <td> 62.6</td>\n",
        "      <td> 4493</td>\n",
        "      <td>  7.0</td>\n",
        "      <td> 50.8</td>\n",
        "      <td> 39.7</td>\n",
        "      <td> 123.0</td>\n",
        "    </tr>\n",
        "  </tbody>\n",
        "</table>\n",
        "</div>"
       ],
       "metadata": {},
       "output_type": "pyout",
       "prompt_number": 18,
       "text": [
        "  State   Age    HS  Income  Black  Female  Price  Sales\n",
        "0    AL  27.0  41.3    2948   26.2    51.7   42.7   89.8\n",
        "1    AK  22.9  66.7    4644    3.0    45.7   41.8  121.3\n",
        "2    AZ  26.3  58.1    3665    3.0    50.8   38.5  115.2\n",
        "3    AR  29.1  39.9    2878   18.3    51.5   38.8  100.3\n",
        "4    CA  28.1  62.6    4493    7.0    50.8   39.7  123.0"
       ]
      }
     ],
     "prompt_number": 18
    },
    {
     "cell_type": "code",
     "collapsed": false,
     "input": [
      "model = smf.ols('Sales ~ Age + HS + Income + Black + Female + Price', data=df)\n",
      "fitted = model.fit()\n",
      "fitted.summary()"
     ],
     "language": "python",
     "metadata": {},
     "outputs": [
      {
       "html": [
        "<table class=\"simpletable\">\n",
        "<caption>OLS Regression Results</caption>\n",
        "<tr>\n",
        "  <th>Dep. Variable:</th>          <td>Sales</td>      <th>  R-squared:         </th> <td>   0.321</td>\n",
        "</tr>\n",
        "<tr>\n",
        "  <th>Model:</th>                   <td>OLS</td>       <th>  Adj. R-squared:    </th> <td>   0.228</td>\n",
        "</tr>\n",
        "<tr>\n",
        "  <th>Method:</th>             <td>Least Squares</td>  <th>  F-statistic:       </th> <td>   3.464</td>\n",
        "</tr>\n",
        "<tr>\n",
        "  <th>Date:</th>             <td>Thu, 12 Feb 2015</td> <th>  Prob (F-statistic):</th>  <td>0.00686</td>\n",
        "</tr>\n",
        "<tr>\n",
        "  <th>Time:</th>                 <td>20:36:20</td>     <th>  Log-Likelihood:    </th> <td> -238.86</td>\n",
        "</tr>\n",
        "<tr>\n",
        "  <th>No. Observations:</th>      <td>    51</td>      <th>  AIC:               </th> <td>   491.7</td>\n",
        "</tr>\n",
        "<tr>\n",
        "  <th>Df Residuals:</th>          <td>    44</td>      <th>  BIC:               </th> <td>   505.2</td>\n",
        "</tr>\n",
        "<tr>\n",
        "  <th>Df Model:</th>              <td>     6</td>      <th>                     </th>     <td> </td>   \n",
        "</tr>\n",
        "</table>\n",
        "<table class=\"simpletable\">\n",
        "<tr>\n",
        "      <td></td>         <th>coef</th>     <th>std err</th>      <th>t</th>      <th>P>|t|</th> <th>[95.0% Conf. Int.]</th> \n",
        "</tr>\n",
        "<tr>\n",
        "  <th>Intercept</th> <td>  103.3448</td> <td>  245.607</td> <td>    0.421</td> <td> 0.676</td> <td> -391.644   598.334</td>\n",
        "</tr>\n",
        "<tr>\n",
        "  <th>Age</th>       <td>    4.5205</td> <td>    3.220</td> <td>    1.404</td> <td> 0.167</td> <td>   -1.969    11.009</td>\n",
        "</tr>\n",
        "<tr>\n",
        "  <th>HS</th>        <td>   -0.0616</td> <td>    0.815</td> <td>   -0.076</td> <td> 0.940</td> <td>   -1.703     1.580</td>\n",
        "</tr>\n",
        "<tr>\n",
        "  <th>Income</th>    <td>    0.0189</td> <td>    0.010</td> <td>    1.855</td> <td> 0.070</td> <td>   -0.002     0.040</td>\n",
        "</tr>\n",
        "<tr>\n",
        "  <th>Black</th>     <td>    0.3575</td> <td>    0.487</td> <td>    0.734</td> <td> 0.467</td> <td>   -0.624     1.339</td>\n",
        "</tr>\n",
        "<tr>\n",
        "  <th>Female</th>    <td>   -1.0529</td> <td>    5.561</td> <td>   -0.189</td> <td> 0.851</td> <td>  -12.260    10.155</td>\n",
        "</tr>\n",
        "<tr>\n",
        "  <th>Price</th>     <td>   -3.2549</td> <td>    1.031</td> <td>   -3.156</td> <td> 0.003</td> <td>   -5.334    -1.176</td>\n",
        "</tr>\n",
        "</table>\n",
        "<table class=\"simpletable\">\n",
        "<tr>\n",
        "  <th>Omnibus:</th>       <td>56.254</td> <th>  Durbin-Watson:     </th> <td>   1.663</td>\n",
        "</tr>\n",
        "<tr>\n",
        "  <th>Prob(Omnibus):</th> <td> 0.000</td> <th>  Jarque-Bera (JB):  </th> <td> 358.088</td>\n",
        "</tr>\n",
        "<tr>\n",
        "  <th>Skew:</th>          <td> 2.842</td> <th>  Prob(JB):          </th> <td>1.75e-78</td>\n",
        "</tr>\n",
        "<tr>\n",
        "  <th>Kurtosis:</th>      <td>14.670</td> <th>  Cond. No.          </th> <td>2.37e+05</td>\n",
        "</tr>\n",
        "</table>"
       ],
       "metadata": {},
       "output_type": "pyout",
       "prompt_number": 51,
       "text": [
        "<class 'statsmodels.iolib.summary.Summary'>\n",
        "\"\"\"\n",
        "                            OLS Regression Results                            \n",
        "==============================================================================\n",
        "Dep. Variable:                  Sales   R-squared:                       0.321\n",
        "Model:                            OLS   Adj. R-squared:                  0.228\n",
        "Method:                 Least Squares   F-statistic:                     3.464\n",
        "Date:                Thu, 12 Feb 2015   Prob (F-statistic):            0.00686\n",
        "Time:                        20:36:20   Log-Likelihood:                -238.86\n",
        "No. Observations:                  51   AIC:                             491.7\n",
        "Df Residuals:                      44   BIC:                             505.2\n",
        "Df Model:                           6                                         \n",
        "==============================================================================\n",
        "                 coef    std err          t      P>|t|      [95.0% Conf. Int.]\n",
        "------------------------------------------------------------------------------\n",
        "Intercept    103.3448    245.607      0.421      0.676      -391.644   598.334\n",
        "Age            4.5205      3.220      1.404      0.167        -1.969    11.009\n",
        "HS            -0.0616      0.815     -0.076      0.940        -1.703     1.580\n",
        "Income         0.0189      0.010      1.855      0.070        -0.002     0.040\n",
        "Black          0.3575      0.487      0.734      0.467        -0.624     1.339\n",
        "Female        -1.0529      5.561     -0.189      0.851       -12.260    10.155\n",
        "Price         -3.2549      1.031     -3.156      0.003        -5.334    -1.176\n",
        "==============================================================================\n",
        "Omnibus:                       56.254   Durbin-Watson:                   1.663\n",
        "Prob(Omnibus):                  0.000   Jarque-Bera (JB):              358.088\n",
        "Skew:                           2.842   Prob(JB):                     1.75e-78\n",
        "Kurtosis:                      14.670   Cond. No.                     2.37e+05\n",
        "==============================================================================\n",
        "\n",
        "Warnings:\n",
        "[1] The condition number is large, 2.37e+05. This might indicate that there are\n",
        "strong multicollinearity or other numerical problems.\n",
        "\"\"\""
       ]
      }
     ],
     "prompt_number": 51
    },
    {
     "cell_type": "code",
     "collapsed": false,
     "input": [
      "model2 = smf.ols('Sales ~ Age + HS + Income + Black + Price', data=df)\n",
      "fitted2 = model2.fit()\n",
      "fitted2.summary()"
     ],
     "language": "python",
     "metadata": {},
     "outputs": [
      {
       "html": [
        "<table class=\"simpletable\">\n",
        "<caption>OLS Regression Results</caption>\n",
        "<tr>\n",
        "  <th>Dep. Variable:</th>          <td>Sales</td>      <th>  R-squared:         </th> <td>   0.320</td>\n",
        "</tr>\n",
        "<tr>\n",
        "  <th>Model:</th>                   <td>OLS</td>       <th>  Adj. R-squared:    </th> <td>   0.245</td>\n",
        "</tr>\n",
        "<tr>\n",
        "  <th>Method:</th>             <td>Least Squares</td>  <th>  F-statistic:       </th> <td>   4.241</td>\n",
        "</tr>\n",
        "<tr>\n",
        "  <th>Date:</th>             <td>Thu, 12 Feb 2015</td> <th>  Prob (F-statistic):</th>  <td>0.00304</td>\n",
        "</tr>\n",
        "<tr>\n",
        "  <th>Time:</th>                 <td>20:36:24</td>     <th>  Log-Likelihood:    </th> <td> -238.88</td>\n",
        "</tr>\n",
        "<tr>\n",
        "  <th>No. Observations:</th>      <td>    51</td>      <th>  AIC:               </th> <td>   489.8</td>\n",
        "</tr>\n",
        "<tr>\n",
        "  <th>Df Residuals:</th>          <td>    45</td>      <th>  BIC:               </th> <td>   501.4</td>\n",
        "</tr>\n",
        "<tr>\n",
        "  <th>Df Model:</th>              <td>     5</td>      <th>                     </th>     <td> </td>   \n",
        "</tr>\n",
        "</table>\n",
        "<table class=\"simpletable\">\n",
        "<tr>\n",
        "      <td></td>         <th>coef</th>     <th>std err</th>      <th>t</th>      <th>P>|t|</th> <th>[95.0% Conf. Int.]</th> \n",
        "</tr>\n",
        "<tr>\n",
        "  <th>Intercept</th> <td>   59.4633</td> <td>   80.388</td> <td>    0.740</td> <td> 0.463</td> <td> -102.446   221.372</td>\n",
        "</tr>\n",
        "<tr>\n",
        "  <th>Age</th>       <td>    4.1178</td> <td>    2.391</td> <td>    1.722</td> <td> 0.092</td> <td>   -0.698     8.934</td>\n",
        "</tr>\n",
        "<tr>\n",
        "  <th>HS</th>        <td>   -0.0668</td> <td>    0.805</td> <td>   -0.083</td> <td> 0.934</td> <td>   -1.689     1.555</td>\n",
        "</tr>\n",
        "<tr>\n",
        "  <th>Income</th>    <td>    0.0195</td> <td>    0.010</td> <td>    1.997</td> <td> 0.052</td> <td>   -0.000     0.039</td>\n",
        "</tr>\n",
        "<tr>\n",
        "  <th>Black</th>     <td>    0.3115</td> <td>    0.418</td> <td>    0.746</td> <td> 0.460</td> <td>   -0.530     1.153</td>\n",
        "</tr>\n",
        "<tr>\n",
        "  <th>Price</th>     <td>   -3.2520</td> <td>    1.020</td> <td>   -3.188</td> <td> 0.003</td> <td>   -5.307    -1.197</td>\n",
        "</tr>\n",
        "</table>\n",
        "<table class=\"simpletable\">\n",
        "<tr>\n",
        "  <th>Omnibus:</th>       <td>56.194</td> <th>  Durbin-Watson:     </th> <td>   1.659</td>\n",
        "</tr>\n",
        "<tr>\n",
        "  <th>Prob(Omnibus):</th> <td> 0.000</td> <th>  Jarque-Bera (JB):  </th> <td> 353.488</td>\n",
        "</tr>\n",
        "<tr>\n",
        "  <th>Skew:</th>          <td> 2.846</td> <th>  Prob(JB):          </th> <td>1.74e-77</td>\n",
        "</tr>\n",
        "<tr>\n",
        "  <th>Kurtosis:</th>      <td>14.573</td> <th>  Cond. No.          </th> <td>7.85e+04</td>\n",
        "</tr>\n",
        "</table>"
       ],
       "metadata": {},
       "output_type": "pyout",
       "prompt_number": 52,
       "text": [
        "<class 'statsmodels.iolib.summary.Summary'>\n",
        "\"\"\"\n",
        "                            OLS Regression Results                            \n",
        "==============================================================================\n",
        "Dep. Variable:                  Sales   R-squared:                       0.320\n",
        "Model:                            OLS   Adj. R-squared:                  0.245\n",
        "Method:                 Least Squares   F-statistic:                     4.241\n",
        "Date:                Thu, 12 Feb 2015   Prob (F-statistic):            0.00304\n",
        "Time:                        20:36:24   Log-Likelihood:                -238.88\n",
        "No. Observations:                  51   AIC:                             489.8\n",
        "Df Residuals:                      45   BIC:                             501.4\n",
        "Df Model:                           5                                         \n",
        "==============================================================================\n",
        "                 coef    std err          t      P>|t|      [95.0% Conf. Int.]\n",
        "------------------------------------------------------------------------------\n",
        "Intercept     59.4633     80.388      0.740      0.463      -102.446   221.372\n",
        "Age            4.1178      2.391      1.722      0.092        -0.698     8.934\n",
        "HS            -0.0668      0.805     -0.083      0.934        -1.689     1.555\n",
        "Income         0.0195      0.010      1.997      0.052        -0.000     0.039\n",
        "Black          0.3115      0.418      0.746      0.460        -0.530     1.153\n",
        "Price         -3.2520      1.020     -3.188      0.003        -5.307    -1.197\n",
        "==============================================================================\n",
        "Omnibus:                       56.194   Durbin-Watson:                   1.659\n",
        "Prob(Omnibus):                  0.000   Jarque-Bera (JB):              353.488\n",
        "Skew:                           2.846   Prob(JB):                     1.74e-77\n",
        "Kurtosis:                      14.573   Cond. No.                     7.85e+04\n",
        "==============================================================================\n",
        "\n",
        "Warnings:\n",
        "[1] The condition number is large, 7.85e+04. This might indicate that there are\n",
        "strong multicollinearity or other numerical problems.\n",
        "\"\"\""
       ]
      }
     ],
     "prompt_number": 52
    },
    {
     "cell_type": "code",
     "collapsed": false,
     "input": [
      "from statsmodels.stats.anova import anova_lm"
     ],
     "language": "python",
     "metadata": {},
     "outputs": [],
     "prompt_number": 32
    },
    {
     "cell_type": "code",
     "collapsed": false,
     "input": [
      "print anova_lm(fitted2, fitted)"
     ],
     "language": "python",
     "metadata": {},
     "outputs": [
      {
       "output_type": "stream",
       "stream": "stdout",
       "text": [
        "   df_resid           ssr  df_diff    ss_diff         F    Pr(>F)\n",
        "0        45  34954.421919        0        NaN       NaN       NaN\n",
        "1        44  34925.968854        1  28.453065  0.035845  0.850706\n"
       ]
      }
     ],
     "prompt_number": 45
    },
    {
     "cell_type": "code",
     "collapsed": false,
     "input": [
      "#small F value means it is not significant. #large P means it is not significant"
     ],
     "language": "python",
     "metadata": {},
     "outputs": []
    },
    {
     "cell_type": "code",
     "collapsed": false,
     "input": [
      "model3 = smf.ols('Sales ~ Age + Income + Price', data=df)\n",
      "fitted3 = model3.fit()\n",
      "fitted3.summary()"
     ],
     "language": "python",
     "metadata": {},
     "outputs": [
      {
       "html": [
        "<table class=\"simpletable\">\n",
        "<caption>OLS Regression Results</caption>\n",
        "<tr>\n",
        "  <th>Dep. Variable:</th>          <td>Sales</td>      <th>  R-squared:         </th> <td>   0.303</td>\n",
        "</tr>\n",
        "<tr>\n",
        "  <th>Model:</th>                   <td>OLS</td>       <th>  Adj. R-squared:    </th> <td>   0.259</td>\n",
        "</tr>\n",
        "<tr>\n",
        "  <th>Method:</th>             <td>Least Squares</td>  <th>  F-statistic:       </th> <td>   6.818</td>\n",
        "</tr>\n",
        "<tr>\n",
        "  <th>Date:</th>             <td>Thu, 12 Feb 2015</td> <th>  Prob (F-statistic):</th> <td>0.000657</td>\n",
        "</tr>\n",
        "<tr>\n",
        "  <th>Time:</th>                 <td>20:36:06</td>     <th>  Log-Likelihood:    </th> <td> -239.51</td>\n",
        "</tr>\n",
        "<tr>\n",
        "  <th>No. Observations:</th>      <td>    51</td>      <th>  AIC:               </th> <td>   487.0</td>\n",
        "</tr>\n",
        "<tr>\n",
        "  <th>Df Residuals:</th>          <td>    47</td>      <th>  BIC:               </th> <td>   494.8</td>\n",
        "</tr>\n",
        "<tr>\n",
        "  <th>Df Model:</th>              <td>     3</td>      <th>                     </th>     <td> </td>   \n",
        "</tr>\n",
        "</table>\n",
        "<table class=\"simpletable\">\n",
        "<tr>\n",
        "      <td></td>         <th>coef</th>     <th>std err</th>      <th>t</th>      <th>P>|t|</th> <th>[95.0% Conf. Int.]</th> \n",
        "</tr>\n",
        "<tr>\n",
        "  <th>Intercept</th> <td>   64.2482</td> <td>   61.933</td> <td>    1.037</td> <td> 0.305</td> <td>  -60.345   188.841</td>\n",
        "</tr>\n",
        "<tr>\n",
        "  <th>Age</th>       <td>    4.1559</td> <td>    2.199</td> <td>    1.890</td> <td> 0.065</td> <td>   -0.267     8.579</td>\n",
        "</tr>\n",
        "<tr>\n",
        "  <th>Income</th>    <td>    0.0193</td> <td>    0.007</td> <td>    2.801</td> <td> 0.007</td> <td>    0.005     0.033</td>\n",
        "</tr>\n",
        "<tr>\n",
        "  <th>Price</th>     <td>   -3.3992</td> <td>    0.989</td> <td>   -3.436</td> <td> 0.001</td> <td>   -5.389    -1.409</td>\n",
        "</tr>\n",
        "</table>\n",
        "<table class=\"simpletable\">\n",
        "<tr>\n",
        "  <th>Omnibus:</th>       <td>49.463</td> <th>  Durbin-Watson:     </th> <td>   1.621</td>\n",
        "</tr>\n",
        "<tr>\n",
        "  <th>Prob(Omnibus):</th> <td> 0.000</td> <th>  Jarque-Bera (JB):  </th> <td> 247.745</td>\n",
        "</tr>\n",
        "<tr>\n",
        "  <th>Skew:</th>          <td> 2.504</td> <th>  Prob(JB):          </th> <td>1.60e-54</td>\n",
        "</tr>\n",
        "<tr>\n",
        "  <th>Kurtosis:</th>      <td>12.565</td> <th>  Cond. No.          </th> <td>6.11e+04</td>\n",
        "</tr>\n",
        "</table>"
       ],
       "metadata": {},
       "output_type": "pyout",
       "prompt_number": 50,
       "text": [
        "<class 'statsmodels.iolib.summary.Summary'>\n",
        "\"\"\"\n",
        "                            OLS Regression Results                            \n",
        "==============================================================================\n",
        "Dep. Variable:                  Sales   R-squared:                       0.303\n",
        "Model:                            OLS   Adj. R-squared:                  0.259\n",
        "Method:                 Least Squares   F-statistic:                     6.818\n",
        "Date:                Thu, 12 Feb 2015   Prob (F-statistic):           0.000657\n",
        "Time:                        20:36:06   Log-Likelihood:                -239.51\n",
        "No. Observations:                  51   AIC:                             487.0\n",
        "Df Residuals:                      47   BIC:                             494.8\n",
        "Df Model:                           3                                         \n",
        "==============================================================================\n",
        "                 coef    std err          t      P>|t|      [95.0% Conf. Int.]\n",
        "------------------------------------------------------------------------------\n",
        "Intercept     64.2482     61.933      1.037      0.305       -60.345   188.841\n",
        "Age            4.1559      2.199      1.890      0.065        -0.267     8.579\n",
        "Income         0.0193      0.007      2.801      0.007         0.005     0.033\n",
        "Price         -3.3992      0.989     -3.436      0.001        -5.389    -1.409\n",
        "==============================================================================\n",
        "Omnibus:                       49.463   Durbin-Watson:                   1.621\n",
        "Prob(Omnibus):                  0.000   Jarque-Bera (JB):              247.745\n",
        "Skew:                           2.504   Prob(JB):                     1.60e-54\n",
        "Kurtosis:                      12.565   Cond. No.                     6.11e+04\n",
        "==============================================================================\n",
        "\n",
        "Warnings:\n",
        "[1] The condition number is large, 6.11e+04. This might indicate that there are\n",
        "strong multicollinearity or other numerical problems.\n",
        "\"\"\""
       ]
      }
     ],
     "prompt_number": 50
    },
    {
     "cell_type": "code",
     "collapsed": false,
     "input": [
      "model4 = smf.ols('Sales ~ Age + Price', data=df)\n",
      "fitted4 = model4.fit()\n",
      "\n",
      "print fitted3.rsquared_adj - fitted4.rsquared_adj"
     ],
     "language": "python",
     "metadata": {},
     "outputs": [
      {
       "output_type": "stream",
       "stream": "stdout",
       "text": [
        "0.105724460585\n"
       ]
      }
     ],
     "prompt_number": 47
    },
    {
     "cell_type": "markdown",
     "metadata": {},
     "source": [
      "---"
     ]
    },
    {
     "cell_type": "markdown",
     "metadata": {},
     "source": [
      "Further Exercises\n",
      "========"
     ]
    },
    {
     "cell_type": "markdown",
     "metadata": {},
     "source": [
      "Level 1\n",
      "--------\n",
      "\n",
      "Use `enron.db`.\n",
      "\n",
      "1. Select a `DataFrame` containing the recipient count (as before) and the `department` of the sender for each message.\n",
      "2. Create a histogram of the recipient count using distplot.\n",
      "3. Create a new column based on the `log` of the recipient count.\n",
      "4. Create a histogram of that log.\n",
      "6. Create a boxplot of the log, splitting the data based on the `department` of the sender. (Bonus, try [factorplot](http://stanford.edu/~mwaskom/software/seaborn/tutorial/categorical_linear_models.html))\n",
      "7. Compute the sample mean and standard deviation of the log in the three groups.\n",
      "8. Compute a 95% confidence interval for the difference in recipient count between the three groups. \n",
      "5. At level $\\alpha=5\\%$, test the null hypothesis that the average recipient count does not differ between the three groups. What assumptions are you making? What can you conclude?"
     ]
    },
    {
     "cell_type": "code",
     "collapsed": false,
     "input": [],
     "language": "python",
     "metadata": {},
     "outputs": []
    },
    {
     "cell_type": "markdown",
     "metadata": {},
     "source": [
      "Level 2\n",
      "-------\n",
      "A criminologist studying the relationship between income level and assults in U.S. cities (among other things) collected the following data for 2215 communities. The dataset can be found in the [UCI machine learning site](http://archive.ics.uci.edu/ml/datasets/Communities+and+Crime+Unnormalized).\n",
      "\n",
      "We are interested in the per capita assult rate and its relation to median income."
     ]
    },
    {
     "cell_type": "code",
     "collapsed": false,
     "input": [
      "crime = pd.read_csv(\"http://archive.ics.uci.edu/ml/machine-learning-databases/00211/CommViolPredUnnormalizedData.txt\", \n",
      "                    header = None, na_values  = '?',\n",
      "                    names = ['communityname', 'state', 'countyCode', 'communityCode', 'fold', 'population', 'householdsize', \n",
      "                             'racepctblack', 'racePctWhite', 'racePctAsian', 'racePctHisp', 'agePct12t21', 'agePct12t29', \n",
      "                             'agePct16t24', 'agePct65up', 'numbUrban', 'pctUrban', 'medIncome', 'pctWWage', 'pctWFarmSelf', \n",
      "                             'pctWInvInc', 'pctWSocSec', 'pctWPubAsst', 'pctWRetire', 'medFamInc', 'perCapInc', 'whitePerCap', \n",
      "                             'blackPerCap', 'indianPerCap', 'AsianPerCap', 'OtherPerCap', 'HispPerCap', 'NumUnderPov', \n",
      "                             'PctPopUnderPov', 'PctLess9thGrade', 'PctNotHSGrad', 'PctBSorMore', 'PctUnemployed', 'PctEmploy', \n",
      "                             'PctEmplManu', 'PctEmplProfServ', 'PctOccupManu', 'PctOccupMgmtProf', 'MalePctDivorce', \n",
      "                             'MalePctNevMarr', 'FemalePctDiv', 'TotalPctDiv', 'PersPerFam', 'PctFam2Par', 'PctKids2Par', \n",
      "                             'PctYoungKids2Par', 'PctTeen2Par', 'PctWorkMomYoungKids', 'PctWorkMom', 'NumKidsBornNeverMar', \n",
      "                             'PctKidsBornNeverMar', 'NumImmig', 'PctImmigRecent', 'PctImmigRec5', 'PctImmigRec8', \n",
      "                             'PctImmigRec10', 'PctRecentImmig', 'PctRecImmig5', 'PctRecImmig8', 'PctRecImmig10', \n",
      "                             'PctSpeakEnglOnly', 'PctNotSpeakEnglWell', 'PctLargHouseFam', 'PctLargHouseOccup', \n",
      "                             'PersPerOccupHous', 'PersPerOwnOccHous', 'PersPerRentOccHous', 'PctPersOwnOccup', \n",
      "                             'PctPersDenseHous', 'PctHousLess3BR', 'MedNumBR', 'HousVacant', 'PctHousOccup', 'PctHousOwnOcc', \n",
      "                             'PctVacantBoarded', 'PctVacMore6Mos', 'MedYrHousBuilt', 'PctHousNoPhone', 'PctWOFullPlumb', \n",
      "                             'OwnOccLowQuart', 'OwnOccMedVal', 'OwnOccHiQuart', 'OwnOccQrange', 'RentLowQ', 'RentMedian', \n",
      "                             'RentHighQ', 'RentQrange', 'MedRent', 'MedRentPctHousInc', 'MedOwnCostPctInc', \n",
      "                             'MedOwnCostPctIncNoMtg', 'NumInShelters', 'NumStreet', 'PctForeignBorn', 'PctBornSameState', \n",
      "                             'PctSameHouse85', 'PctSameCity85', 'PctSameState85', 'LemasSwornFT', 'LemasSwFTPerPop', \n",
      "                             'LemasSwFTFieldOps', 'LemasSwFTFieldPerPop', 'LemasTotalReq', 'LemasTotReqPerPop', \n",
      "                             'PolicReqPerOffic', 'PolicPerPop', 'RacialMatchCommPol', 'PctPolicWhite', 'PctPolicBlack', \n",
      "                             'PctPolicHisp', 'PctPolicAsian', 'PctPolicMinor', 'OfficAssgnDrugUnits', 'NumKindsDrugsSeiz', \n",
      "                             'PolicAveOTWorked', 'LandArea', 'PopDens', 'PctUsePubTrans', 'PolicCars', 'PolicOperBudg', \n",
      "                             'LemasPctPolicOnPatr', 'LemasGangUnitDeploy', 'LemasPctOfficDrugUn', 'PolicBudgPerPop', \n",
      "                             'murders', 'murdPerPop', 'rapes', 'rapesPerPop', 'robberies', 'robbbPerPop', 'assaults', \n",
      "                             'assaultPerPop', 'burglaries', 'burglPerPop', 'larcenies', 'larcPerPop', 'autoTheft', \n",
      "                             'autoTheftPerPop', 'arsons', 'arsonsPerPop', 'ViolentCrimesPerPop', 'nonViolPerPop'])"
     ],
     "language": "python",
     "metadata": {},
     "outputs": [],
     "prompt_number": 24
    },
    {
     "cell_type": "markdown",
     "metadata": {},
     "source": [
      "1. Fit a simple linear regression model to the data with `np.log(crime.assaults)` as the dependent variable and `np.log(crime.medIncome)` as the independent variable. Plot the estimated regression line.\n",
      "\n",
      "4. Test whether there is a linear relationship between `assaults` and `medIncome` at level $\\alpha=0.05$. State the null hypothesis, the alternative, the conclusion and the $p$-value.\n",
      "\n",
      "5. Give a 95% confidence interval for the slope of the regression line. Interpret your interval.\n",
      "\n",
      "6. Report the $R^2$ and the adjusted $R^2$ of the model, as well as an estimate of the variance of the errors in the model.\n",
      "\n",
      "7. Go to [archive.ics.uci.edu/ml/datasets/Communities+and+Crime+Unnormalized](http://archive.ics.uci.edu/ml/datasets/Communities+and+Crime+Unnormalized) and pick out a few other factors that might help you predict `assults`."
     ]
    }
   ],
   "metadata": {}
  }
 ]
}