{
 "metadata": {
  "name": "",
  "signature": "sha256:13e87f06f4afce6771e125f8d016e12d4be653d489a4c1600cddf5fcb023db44"
 },
 "nbformat": 3,
 "nbformat_minor": 0,
 "worksheets": [
  {
   "cells": [
    {
     "cell_type": "heading",
     "level": 1,
     "metadata": {},
     "source": [
      "Lab - Choice Modeling"
     ]
    },
    {
     "cell_type": "markdown",
     "metadata": {},
     "source": [
      "---\n",
      "## *Don't forget to make a copy first!*\n",
      "---"
     ]
    },
    {
     "cell_type": "code",
     "collapsed": false,
     "input": [
      "%matplotlib inline\n",
      "\n",
      "import numpy as np\n",
      "import pandas as pd\n",
      "import seaborn as sns\n",
      "import statsmodels.formula.api as smf\n",
      "\n",
      "from itertools import product\n",
      "from seaborn import plt"
     ],
     "language": "python",
     "metadata": {},
     "outputs": [],
     "prompt_number": 1
    },
    {
     "cell_type": "heading",
     "level": 1,
     "metadata": {},
     "source": [
      "Example 1:"
     ]
    },
    {
     "cell_type": "markdown",
     "metadata": {},
     "source": [
      "Adapted from http://www.ats.ucla.edu/stat/r/dae/logit.htm"
     ]
    },
    {
     "cell_type": "code",
     "collapsed": false,
     "input": [
      "x = pd.read_csv(\"http://www.ats.ucla.edu/stat/data/binary.csv\")"
     ],
     "language": "python",
     "metadata": {},
     "outputs": [],
     "prompt_number": 2
    },
    {
     "cell_type": "code",
     "collapsed": false,
     "input": [
      "x.describe().T"
     ],
     "language": "python",
     "metadata": {},
     "outputs": [
      {
       "html": [
        "<div style=\"max-height:1000px;max-width:1500px;overflow:auto;\">\n",
        "<table border=\"1\" class=\"dataframe\">\n",
        "  <thead>\n",
        "    <tr style=\"text-align: right;\">\n",
        "      <th></th>\n",
        "      <th>count</th>\n",
        "      <th>mean</th>\n",
        "      <th>std</th>\n",
        "      <th>min</th>\n",
        "      <th>25%</th>\n",
        "      <th>50%</th>\n",
        "      <th>75%</th>\n",
        "      <th>max</th>\n",
        "    </tr>\n",
        "  </thead>\n",
        "  <tbody>\n",
        "    <tr>\n",
        "      <th>admit</th>\n",
        "      <td> 400</td>\n",
        "      <td>   0.3175</td>\n",
        "      <td>   0.466087</td>\n",
        "      <td>   0.00</td>\n",
        "      <td>   0.00</td>\n",
        "      <td>   0.000</td>\n",
        "      <td>   1.00</td>\n",
        "      <td>   1</td>\n",
        "    </tr>\n",
        "    <tr>\n",
        "      <th>gre</th>\n",
        "      <td> 400</td>\n",
        "      <td> 587.7000</td>\n",
        "      <td> 115.516536</td>\n",
        "      <td> 220.00</td>\n",
        "      <td> 520.00</td>\n",
        "      <td> 580.000</td>\n",
        "      <td> 660.00</td>\n",
        "      <td> 800</td>\n",
        "    </tr>\n",
        "    <tr>\n",
        "      <th>gpa</th>\n",
        "      <td> 400</td>\n",
        "      <td>   3.3899</td>\n",
        "      <td>   0.380567</td>\n",
        "      <td>   2.26</td>\n",
        "      <td>   3.13</td>\n",
        "      <td>   3.395</td>\n",
        "      <td>   3.67</td>\n",
        "      <td>   4</td>\n",
        "    </tr>\n",
        "    <tr>\n",
        "      <th>rank</th>\n",
        "      <td> 400</td>\n",
        "      <td>   2.4850</td>\n",
        "      <td>   0.944460</td>\n",
        "      <td>   1.00</td>\n",
        "      <td>   2.00</td>\n",
        "      <td>   2.000</td>\n",
        "      <td>   3.00</td>\n",
        "      <td>   4</td>\n",
        "    </tr>\n",
        "  </tbody>\n",
        "</table>\n",
        "</div>"
       ],
       "metadata": {},
       "output_type": "pyout",
       "prompt_number": 3,
       "text": [
        "       count      mean         std     min     25%      50%     75%  max\n",
        "admit    400    0.3175    0.466087    0.00    0.00    0.000    1.00    1\n",
        "gre      400  587.7000  115.516536  220.00  520.00  580.000  660.00  800\n",
        "gpa      400    3.3899    0.380567    2.26    3.13    3.395    3.67    4\n",
        "rank     400    2.4850    0.944460    1.00    2.00    2.000    3.00    4"
       ]
      }
     ],
     "prompt_number": 3
    },
    {
     "cell_type": "markdown",
     "metadata": {},
     "source": [
      "*...what does* `.T` *do?*"
     ]
    },
    {
     "cell_type": "code",
     "collapsed": false,
     "input": [
      "x.pivot_table(values='gre', index='admit', columns='rank', aggfunc='count')  # cross-tab"
     ],
     "language": "python",
     "metadata": {},
     "outputs": []
    },
    {
     "cell_type": "markdown",
     "metadata": {},
     "source": [
      "## Linear Fit:"
     ]
    },
    {
     "cell_type": "code",
     "collapsed": false,
     "input": [
      "lin = smf.ols('admit ~ gre + gpa + rank', x)\n",
      "lin.fit().summary()"
     ],
     "language": "python",
     "metadata": {},
     "outputs": []
    },
    {
     "cell_type": "code",
     "collapsed": false,
     "input": [
      "lin0 = smf.ols('admit ~ 0 + gre + gpa + rank', x)\n",
      "lin0.fit().summary()"
     ],
     "language": "python",
     "metadata": {},
     "outputs": []
    },
    {
     "cell_type": "markdown",
     "metadata": {},
     "source": [
      "## Logit:"
     ]
    },
    {
     "cell_type": "code",
     "collapsed": false,
     "input": [
      "lgt = smf.logit('admit ~ gre + gpa + rank', x)\n",
      "logit_fit = lgt.fit()\n",
      "logit_fit.summary()"
     ],
     "language": "python",
     "metadata": {},
     "outputs": []
    },
    {
     "cell_type": "markdown",
     "metadata": {},
     "source": [
      "coeffs -> chg in log-odds of the output variable for unit increase in the input variable"
     ]
    },
    {
     "cell_type": "markdown",
     "metadata": {},
     "source": [
      "### Factor Rank:"
     ]
    },
    {
     "cell_type": "code",
     "collapsed": false,
     "input": [
      "x['rank_factor'] = x['rank'].astype(object)"
     ],
     "language": "python",
     "metadata": {},
     "outputs": []
    },
    {
     "cell_type": "heading",
     "level": 5,
     "metadata": {},
     "source": [
      "*N.B.* `x.rank` *won't work here. We have to use* `x['rank']`"
     ]
    },
    {
     "cell_type": "code",
     "collapsed": false,
     "input": [
      "lgt = smf.logit('admit ~ gre + gpa + rank_factor', x)\n",
      "logit_fit = lgt.fit()\n",
      "logit_fit.summary()"
     ],
     "language": "python",
     "metadata": {},
     "outputs": []
    },
    {
     "cell_type": "markdown",
     "metadata": {},
     "source": [
      "*...why factor?*"
     ]
    },
    {
     "cell_type": "markdown",
     "metadata": {},
     "source": [
      "coeffs of indicator (dummy) vars are slightly different...for example, the coeff of rank2 represents the change in the log-odds of the output variable that comes going to a rank2 school instead of a rank1 school"
     ]
    },
    {
     "cell_type": "markdown",
     "metadata": {},
     "source": [
      "odds ratios can be found by exponentiating the log-odds ratios:"
     ]
    },
    {
     "cell_type": "code",
     "collapsed": false,
     "input": [
      "logit_fit.params.map(np.exp)"
     ],
     "language": "python",
     "metadata": {},
     "outputs": []
    },
    {
     "cell_type": "markdown",
     "metadata": {},
     "source": [
      "#### *N.B. important to give columns the same names as in the model:*"
     ]
    },
    {
     "cell_type": "code",
     "collapsed": false,
     "input": [
      "new_data = pd.DataFrame({'gre': x.gre.mean(), 'gpa': x.gpa.mean(), \n",
      "                         'rank_factor': np.array(range(1,5), dtype=object)})\n",
      "new_data"
     ],
     "language": "python",
     "metadata": {},
     "outputs": []
    },
    {
     "cell_type": "markdown",
     "metadata": {},
     "source": [
      "#### predict probs for new data (varying rank):"
     ]
    },
    {
     "cell_type": "code",
     "collapsed": false,
     "input": [
      "new_data['rank_prob'] = logit_fit.predict(new_data)\n",
      "new_data"
     ],
     "language": "python",
     "metadata": {},
     "outputs": []
    },
    {
     "cell_type": "markdown",
     "metadata": {},
     "source": [
      "#### predict probs for new data (varying gre):"
     ]
    },
    {
     "cell_type": "code",
     "collapsed": false,
     "input": [
      "new_data2 = pd.DataFrame(list(product(np.linspace(200, 800, 100), \n",
      "                                      np.array(range(1,5), dtype=object))),\n",
      "                         columns = ['gre', 'rank_factor'])\n",
      "new_data2['gpa'] = x.gpa.mean()\n",
      "new_data2.describe()"
     ],
     "language": "python",
     "metadata": {},
     "outputs": []
    },
    {
     "cell_type": "code",
     "collapsed": false,
     "input": [
      "new_data2['pred'] = logit_fit.predict(new_data2)\n",
      "\n",
      "new_data2.pivot(index='gre', columns='rank_factor', values='pred').plot()"
     ],
     "language": "python",
     "metadata": {},
     "outputs": []
    },
    {
     "cell_type": "markdown",
     "metadata": {},
     "source": [
      "#### predict probs for new data (varying gpa):"
     ]
    },
    {
     "cell_type": "code",
     "collapsed": false,
     "input": [
      "new_data3 = pd.DataFrame(list(product(np.linspace(0, 4, 100), \n",
      "                                      np.array(range(1,5), dtype=object))),\n",
      "                         columns = ['gpa', 'rank_factor'])\n",
      "new_data3['gre'] = x.gre.mean()\n",
      "new_data3.describe()"
     ],
     "language": "python",
     "metadata": {},
     "outputs": []
    },
    {
     "cell_type": "code",
     "collapsed": false,
     "input": [
      "new_data3['pred'] = logit_fit.predict(new_data3)\n",
      "\n",
      "new_data3.pivot(index='gpa', columns='rank_factor', values='pred').plot()"
     ],
     "language": "python",
     "metadata": {},
     "outputs": []
    },
    {
     "cell_type": "heading",
     "level": 1,
     "metadata": {},
     "source": [
      "Example 2:"
     ]
    },
    {
     "cell_type": "markdown",
     "metadata": {},
     "source": [
      "*Courtesy of Nir Kaldero*"
     ]
    },
    {
     "cell_type": "heading",
     "level": 5,
     "metadata": {},
     "source": [
      "Data - Grocery type of data about Milk Consumption "
     ]
    },
    {
     "cell_type": "heading",
     "level": 6,
     "metadata": {},
     "source": [
      "Variables:"
     ]
    },
    {
     "cell_type": "heading",
     "level": 6,
     "metadata": {},
     "source": [
      "id - unique number for each consumer, 500 observations "
     ]
    },
    {
     "cell_type": "heading",
     "level": 6,
     "metadata": {},
     "source": [
      "product - binary variable (1,0); if product ==1 : consumer bought 2% milk, otherwise : fat-milk"
     ]
    },
    {
     "cell_type": "heading",
     "level": 6,
     "metadata": {},
     "source": [
      "full_price - full price before promotion (if any)"
     ]
    },
    {
     "cell_type": "heading",
     "level": 6,
     "metadata": {},
     "source": [
      "full_pri - the price after the discount/promotion "
     ]
    },
    {
     "cell_type": "heading",
     "level": 6,
     "metadata": {},
     "source": [
      "disc_price - totall amount of discount"
     ]
    },
    {
     "cell_type": "heading",
     "level": 6,
     "metadata": {},
     "source": [
      "bundel - if consumers buy the products as a bundel (2 per 6, 1 per 3)"
     ]
    },
    {
     "cell_type": "heading",
     "level": 6,
     "metadata": {},
     "source": [
      "time_day : 1== morning (until noon), otherwise: after noon-close"
     ]
    },
    {
     "cell_type": "heading",
     "level": 6,
     "metadata": {},
     "source": [
      "repeated? - if consumer i is a repated buyer in the store"
     ]
    },
    {
     "cell_type": "heading",
     "level": 6,
     "metadata": {},
     "source": [
      "repeated_bundel? - if consumer already buy the product as a bundel before"
     ]
    },
    {
     "cell_type": "heading",
     "level": 2,
     "metadata": {},
     "source": [
      "Pull the data"
     ]
    },
    {
     "cell_type": "code",
     "collapsed": false,
     "input": [
      "mdata = pd.read_csv('data/milkdata.csv')\n",
      "mdata.head(3)"
     ],
     "language": "python",
     "metadata": {},
     "outputs": [
      {
       "html": [
        "<div style=\"max-height:1000px;max-width:1500px;overflow:auto;\">\n",
        "<table border=\"1\" class=\"dataframe\">\n",
        "  <thead>\n",
        "    <tr style=\"text-align: right;\">\n",
        "      <th></th>\n",
        "      <th>id</th>\n",
        "      <th>product</th>\n",
        "      <th>full_price</th>\n",
        "      <th>full_pri</th>\n",
        "      <th>promo</th>\n",
        "      <th>disc_price</th>\n",
        "      <th>bundle</th>\n",
        "      <th>time_day</th>\n",
        "      <th>repeated?</th>\n",
        "      <th>repeated_bundle?</th>\n",
        "    </tr>\n",
        "  </thead>\n",
        "  <tbody>\n",
        "    <tr>\n",
        "      <th>0</th>\n",
        "      <td> 1</td>\n",
        "      <td> 1</td>\n",
        "      <td> 2</td>\n",
        "      <td> 1.58</td>\n",
        "      <td> 1</td>\n",
        "      <td> 0.42</td>\n",
        "      <td> 1</td>\n",
        "      <td> 1</td>\n",
        "      <td> 1</td>\n",
        "      <td> 1</td>\n",
        "    </tr>\n",
        "    <tr>\n",
        "      <th>1</th>\n",
        "      <td> 2</td>\n",
        "      <td> 1</td>\n",
        "      <td> 2</td>\n",
        "      <td> 1.15</td>\n",
        "      <td> 1</td>\n",
        "      <td> 0.85</td>\n",
        "      <td> 1</td>\n",
        "      <td> 1</td>\n",
        "      <td> 0</td>\n",
        "      <td> 1</td>\n",
        "    </tr>\n",
        "    <tr>\n",
        "      <th>2</th>\n",
        "      <td> 3</td>\n",
        "      <td> 1</td>\n",
        "      <td> 3</td>\n",
        "      <td> 2.25</td>\n",
        "      <td> 1</td>\n",
        "      <td> 0.75</td>\n",
        "      <td> 0</td>\n",
        "      <td> 1</td>\n",
        "      <td> 1</td>\n",
        "      <td> 1</td>\n",
        "    </tr>\n",
        "  </tbody>\n",
        "</table>\n",
        "</div>"
       ],
       "metadata": {},
       "output_type": "pyout",
       "prompt_number": 4,
       "text": [
        "   id  product  full_price  full_pri  promo  disc_price  bundle  time_day  \\\n",
        "0   1        1           2      1.58      1        0.42       1         1   \n",
        "1   2        1           2      1.15      1        0.85       1         1   \n",
        "2   3        1           3      2.25      1        0.75       0         1   \n",
        "\n",
        "   repeated?  repeated_bundle?  \n",
        "0          1                 1  \n",
        "1          0                 1  \n",
        "2          1                 1  "
       ]
      }
     ],
     "prompt_number": 4
    },
    {
     "cell_type": "heading",
     "level": 2,
     "metadata": {},
     "source": [
      "summary statistics (all variables)"
     ]
    },
    {
     "cell_type": "code",
     "collapsed": false,
     "input": [
      "mdata.describe().T"
     ],
     "language": "python",
     "metadata": {},
     "outputs": [
      {
       "html": [
        "<div style=\"max-height:1000px;max-width:1500px;overflow:auto;\">\n",
        "<table border=\"1\" class=\"dataframe\">\n",
        "  <thead>\n",
        "    <tr style=\"text-align: right;\">\n",
        "      <th></th>\n",
        "      <th>count</th>\n",
        "      <th>mean</th>\n",
        "      <th>std</th>\n",
        "      <th>min</th>\n",
        "      <th>25%</th>\n",
        "      <th>50%</th>\n",
        "      <th>75%</th>\n",
        "      <th>max</th>\n",
        "    </tr>\n",
        "  </thead>\n",
        "  <tbody>\n",
        "    <tr>\n",
        "      <th>id</th>\n",
        "      <td> 500</td>\n",
        "      <td> 250.50000</td>\n",
        "      <td> 144.481833</td>\n",
        "      <td> 1</td>\n",
        "      <td> 125.75</td>\n",
        "      <td> 250.50</td>\n",
        "      <td> 375.25</td>\n",
        "      <td> 500</td>\n",
        "    </tr>\n",
        "    <tr>\n",
        "      <th>product</th>\n",
        "      <td> 500</td>\n",
        "      <td>   0.65600</td>\n",
        "      <td>   0.475517</td>\n",
        "      <td> 0</td>\n",
        "      <td>   0.00</td>\n",
        "      <td>   1.00</td>\n",
        "      <td>   1.00</td>\n",
        "      <td>   1</td>\n",
        "    </tr>\n",
        "    <tr>\n",
        "      <th>full_price</th>\n",
        "      <td> 500</td>\n",
        "      <td>   2.49000</td>\n",
        "      <td>   0.500401</td>\n",
        "      <td> 2</td>\n",
        "      <td>   2.00</td>\n",
        "      <td>   2.00</td>\n",
        "      <td>   3.00</td>\n",
        "      <td>   3</td>\n",
        "    </tr>\n",
        "    <tr>\n",
        "      <th>full_pri</th>\n",
        "      <td> 500</td>\n",
        "      <td>   2.02276</td>\n",
        "      <td>   0.513379</td>\n",
        "      <td> 1</td>\n",
        "      <td>   1.63</td>\n",
        "      <td>   2.00</td>\n",
        "      <td>   2.40</td>\n",
        "      <td>   3</td>\n",
        "    </tr>\n",
        "    <tr>\n",
        "      <th>promo</th>\n",
        "      <td> 500</td>\n",
        "      <td>   0.58200</td>\n",
        "      <td>   0.493724</td>\n",
        "      <td> 0</td>\n",
        "      <td>   0.00</td>\n",
        "      <td>   1.00</td>\n",
        "      <td>   1.00</td>\n",
        "      <td>   1</td>\n",
        "    </tr>\n",
        "    <tr>\n",
        "      <th>disc_price</th>\n",
        "      <td> 500</td>\n",
        "      <td>   0.55436</td>\n",
        "      <td>   0.562047</td>\n",
        "      <td>-1</td>\n",
        "      <td>   0.00</td>\n",
        "      <td>   0.48</td>\n",
        "      <td>   1.00</td>\n",
        "      <td>   2</td>\n",
        "    </tr>\n",
        "    <tr>\n",
        "      <th>bundle</th>\n",
        "      <td> 500</td>\n",
        "      <td>   0.62200</td>\n",
        "      <td>   0.485373</td>\n",
        "      <td> 0</td>\n",
        "      <td>   0.00</td>\n",
        "      <td>   1.00</td>\n",
        "      <td>   1.00</td>\n",
        "      <td>   1</td>\n",
        "    </tr>\n",
        "    <tr>\n",
        "      <th>time_day</th>\n",
        "      <td> 500</td>\n",
        "      <td>   0.70400</td>\n",
        "      <td>   0.456948</td>\n",
        "      <td> 0</td>\n",
        "      <td>   0.00</td>\n",
        "      <td>   1.00</td>\n",
        "      <td>   1.00</td>\n",
        "      <td>   1</td>\n",
        "    </tr>\n",
        "    <tr>\n",
        "      <th>repeated?</th>\n",
        "      <td> 500</td>\n",
        "      <td>   0.77600</td>\n",
        "      <td>   0.417340</td>\n",
        "      <td> 0</td>\n",
        "      <td>   1.00</td>\n",
        "      <td>   1.00</td>\n",
        "      <td>   1.00</td>\n",
        "      <td>   1</td>\n",
        "    </tr>\n",
        "    <tr>\n",
        "      <th>repeated_bundle?</th>\n",
        "      <td> 500</td>\n",
        "      <td>   0.74800</td>\n",
        "      <td>   0.434596</td>\n",
        "      <td> 0</td>\n",
        "      <td>   0.00</td>\n",
        "      <td>   1.00</td>\n",
        "      <td>   1.00</td>\n",
        "      <td>   1</td>\n",
        "    </tr>\n",
        "  </tbody>\n",
        "</table>\n",
        "</div>"
       ],
       "metadata": {},
       "output_type": "pyout",
       "prompt_number": 5,
       "text": [
        "                  count       mean         std  min     25%     50%     75%  \\\n",
        "id                  500  250.50000  144.481833    1  125.75  250.50  375.25   \n",
        "product             500    0.65600    0.475517    0    0.00    1.00    1.00   \n",
        "full_price          500    2.49000    0.500401    2    2.00    2.00    3.00   \n",
        "full_pri            500    2.02276    0.513379    1    1.63    2.00    2.40   \n",
        "promo               500    0.58200    0.493724    0    0.00    1.00    1.00   \n",
        "disc_price          500    0.55436    0.562047   -1    0.00    0.48    1.00   \n",
        "bundle              500    0.62200    0.485373    0    0.00    1.00    1.00   \n",
        "time_day            500    0.70400    0.456948    0    0.00    1.00    1.00   \n",
        "repeated?           500    0.77600    0.417340    0    1.00    1.00    1.00   \n",
        "repeated_bundle?    500    0.74800    0.434596    0    0.00    1.00    1.00   \n",
        "\n",
        "                  max  \n",
        "id                500  \n",
        "product             1  \n",
        "full_price          3  \n",
        "full_pri            3  \n",
        "promo               1  \n",
        "disc_price          2  \n",
        "bundle              1  \n",
        "time_day            1  \n",
        "repeated?           1  \n",
        "repeated_bundle?    1  "
       ]
      }
     ],
     "prompt_number": 5
    },
    {
     "cell_type": "heading",
     "level": 2,
     "metadata": {},
     "source": [
      "plot the distribution (or  density) of full_pri (price after promotion)"
     ]
    },
    {
     "cell_type": "code",
     "collapsed": false,
     "input": [
      "mdata.full_pri.hist()"
     ],
     "language": "python",
     "metadata": {},
     "outputs": [
      {
       "metadata": {},
       "output_type": "pyout",
       "prompt_number": 6,
       "text": [
        "<matplotlib.axes._subplots.AxesSubplot at 0x183a1f28>"
       ]
      },
      {
       "metadata": {},
       "output_type": "display_data",
       "png": "[encoded data removed]",
       "text": [
        "<matplotlib.figure.Figure at 0x183a1908>"
       ]
      }
     ],
     "prompt_number": 6
    },
    {
     "cell_type": "heading",
     "level": 2,
     "metadata": {},
     "source": [
      "plot the distribution of promo (total promotion)\n"
     ]
    },
    {
     "cell_type": "code",
     "collapsed": false,
     "input": [
      "mdata.disc_price.hist()"
     ],
     "language": "python",
     "metadata": {},
     "outputs": [
      {
       "metadata": {},
       "output_type": "pyout",
       "prompt_number": 7,
       "text": [
        "<matplotlib.axes._subplots.AxesSubplot at 0x18696390>"
       ]
      },
      {
       "metadata": {},
       "output_type": "display_data",
       "png": "[encoded data removed]",
       "text": [
        "<matplotlib.figure.Figure at 0x186a1278>"
       ]
      }
     ],
     "prompt_number": 7
    },
    {
     "cell_type": "heading",
     "level": 2,
     "metadata": {},
     "source": [
      "Run a simple logit model where yi = Prob(product i = 1) on all other variables in the data"
     ]
    },
    {
     "cell_type": "code",
     "collapsed": false,
     "input": [
      "mdata.columns[2:]"
     ],
     "language": "python",
     "metadata": {},
     "outputs": [
      {
       "metadata": {},
       "output_type": "pyout",
       "prompt_number": 8,
       "text": [
        "Index([u'full_price', u'full_pri', u'promo', u'disc_price', u'bundle', u'time_day', u'repeated?', u'repeated_bundle?'], dtype='object')"
       ]
      }
     ],
     "prompt_number": 8
    },
    {
     "cell_type": "code",
     "collapsed": false,
     "input": [
      "train_cols = mdata.columns[2:]"
     ],
     "language": "python",
     "metadata": {},
     "outputs": [],
     "prompt_number": 9
    },
    {
     "cell_type": "code",
     "collapsed": false,
     "input": [
      "logit = smf.Logit(mdata[\"product\"], mdata[train_cols])"
     ],
     "language": "python",
     "metadata": {},
     "outputs": [],
     "prompt_number": 10
    },
    {
     "cell_type": "code",
     "collapsed": false,
     "input": [
      "results=logit.fit()\n",
      "results.summary()"
     ],
     "language": "python",
     "metadata": {},
     "outputs": [
      {
       "output_type": "stream",
       "stream": "stdout",
       "text": [
        "Optimization terminated successfully.\n",
        "         Current function value: 0.583270\n",
        "         Iterations 5\n"
       ]
      },
      {
       "html": [
        "<table class=\"simpletable\">\n",
        "<caption>Logit Regression Results</caption>\n",
        "<tr>\n",
        "  <th>Dep. Variable:</th>      <td>product</td>     <th>  No. Observations:  </th>  <td>   500</td>  \n",
        "</tr>\n",
        "<tr>\n",
        "  <th>Model:</th>               <td>Logit</td>      <th>  Df Residuals:      </th>  <td>   492</td>  \n",
        "</tr>\n",
        "<tr>\n",
        "  <th>Method:</th>               <td>MLE</td>       <th>  Df Model:          </th>  <td>     7</td>  \n",
        "</tr>\n",
        "<tr>\n",
        "  <th>Date:</th>          <td>Tue, 24 Feb 2015</td> <th>  Pseudo R-squ.:     </th>  <td>0.09381</td> \n",
        "</tr>\n",
        "<tr>\n",
        "  <th>Time:</th>              <td>18:35:34</td>     <th>  Log-Likelihood:    </th> <td> -291.63</td> \n",
        "</tr>\n",
        "<tr>\n",
        "  <th>converged:</th>           <td>True</td>       <th>  LL-Null:           </th> <td> -321.83</td> \n",
        "</tr>\n",
        "<tr>\n",
        "  <th> </th>                      <td> </td>        <th>  LLR p-value:       </th> <td>1.266e-10</td>\n",
        "</tr>\n",
        "</table>\n",
        "<table class=\"simpletable\">\n",
        "<tr>\n",
        "          <td></td>            <th>coef</th>     <th>std err</th>      <th>z</th>      <th>P>|z|</th> <th>[95.0% Conf. Int.]</th> \n",
        "</tr>\n",
        "<tr>\n",
        "  <th>full_price</th>       <td>   -0.8837</td> <td>    0.515</td> <td>   -1.717</td> <td> 0.086</td> <td>   -1.893     0.125</td>\n",
        "</tr>\n",
        "<tr>\n",
        "  <th>full_pri</th>         <td>    0.3279</td> <td>    0.462</td> <td>    0.710</td> <td> 0.478</td> <td>   -0.577     1.233</td>\n",
        "</tr>\n",
        "<tr>\n",
        "  <th>promo</th>            <td>   -0.1351</td> <td>    0.448</td> <td>   -0.301</td> <td> 0.763</td> <td>   -1.014     0.744</td>\n",
        "</tr>\n",
        "<tr>\n",
        "  <th>disc_price</th>       <td>    0.4445</td> <td>    0.559</td> <td>    0.795</td> <td> 0.427</td> <td>   -0.652     1.541</td>\n",
        "</tr>\n",
        "<tr>\n",
        "  <th>bundle</th>           <td>    0.6897</td> <td>    0.259</td> <td>    2.665</td> <td> 0.008</td> <td>    0.183     1.197</td>\n",
        "</tr>\n",
        "<tr>\n",
        "  <th>time_day</th>         <td>    1.3524</td> <td>    0.210</td> <td>    6.449</td> <td> 0.000</td> <td>    0.941     1.763</td>\n",
        "</tr>\n",
        "<tr>\n",
        "  <th>repeated?</th>        <td>    0.6464</td> <td>    0.269</td> <td>    2.401</td> <td> 0.016</td> <td>    0.119     1.174</td>\n",
        "</tr>\n",
        "<tr>\n",
        "  <th>repeated_bundle?</th> <td>    0.2952</td> <td>    0.387</td> <td>    0.763</td> <td> 0.445</td> <td>   -0.463     1.053</td>\n",
        "</tr>\n",
        "</table>"
       ],
       "metadata": {},
       "output_type": "pyout",
       "prompt_number": 11,
       "text": [
        "<class 'statsmodels.iolib.summary.Summary'>\n",
        "\"\"\"\n",
        "                           Logit Regression Results                           \n",
        "==============================================================================\n",
        "Dep. Variable:                product   No. Observations:                  500\n",
        "Model:                          Logit   Df Residuals:                      492\n",
        "Method:                           MLE   Df Model:                            7\n",
        "Date:                Tue, 24 Feb 2015   Pseudo R-squ.:                 0.09381\n",
        "Time:                        18:35:34   Log-Likelihood:                -291.63\n",
        "converged:                       True   LL-Null:                       -321.83\n",
        "                                        LLR p-value:                 1.266e-10\n",
        "====================================================================================\n",
        "                       coef    std err          z      P>|z|      [95.0% Conf. Int.]\n",
        "------------------------------------------------------------------------------------\n",
        "full_price          -0.8837      0.515     -1.717      0.086        -1.893     0.125\n",
        "full_pri             0.3279      0.462      0.710      0.478        -0.577     1.233\n",
        "promo               -0.1351      0.448     -0.301      0.763        -1.014     0.744\n",
        "disc_price           0.4445      0.559      0.795      0.427        -0.652     1.541\n",
        "bundle               0.6897      0.259      2.665      0.008         0.183     1.197\n",
        "time_day             1.3524      0.210      6.449      0.000         0.941     1.763\n",
        "repeated?            0.6464      0.269      2.401      0.016         0.119     1.174\n",
        "repeated_bundle?     0.2952      0.387      0.763      0.445        -0.463     1.053\n",
        "====================================================================================\n",
        "\"\"\""
       ]
      }
     ],
     "prompt_number": 11
    },
    {
     "cell_type": "heading",
     "level": 3,
     "metadata": {},
     "source": [
      "Questions:"
     ]
    },
    {
     "cell_type": "heading",
     "level": 2,
     "metadata": {},
     "source": [
      "What we are tryng to find?"
     ]
    },
    {
     "cell_type": "heading",
     "level": 3,
     "metadata": {},
     "source": [
      "1. What is the expeced probability that a consumer will buy 2% milk if all other variables are equal to the avegrage (mean) number in the whole sample?"
     ]
    },
    {
     "cell_type": "code",
     "collapsed": false,
     "input": [],
     "language": "python",
     "metadata": {},
     "outputs": []
    },
    {
     "cell_type": "heading",
     "level": 3,
     "metadata": {},
     "source": [
      "2. Which variables are signficant and which are not? (95 percent confident)"
     ]
    },
    {
     "cell_type": "code",
     "collapsed": false,
     "input": [],
     "language": "python",
     "metadata": {},
     "outputs": []
    },
    {
     "cell_type": "heading",
     "level": 3,
     "metadata": {},
     "source": [
      "3. Which variables are consistent with your prior intuition and which are not?"
     ]
    },
    {
     "cell_type": "code",
     "collapsed": false,
     "input": [],
     "language": "python",
     "metadata": {},
     "outputs": []
    },
    {
     "cell_type": "heading",
     "level": 3,
     "metadata": {},
     "source": [
      "4. By reading the output from this regression - would you recommend for the Marketing Team to sell milk in bundle? yes? no? explain?"
     ]
    },
    {
     "cell_type": "code",
     "collapsed": false,
     "input": [],
     "language": "python",
     "metadata": {},
     "outputs": []
    },
    {
     "cell_type": "heading",
     "level": 2,
     "metadata": {},
     "source": [
      "Interpret the estimated (betas):"
     ]
    },
    {
     "cell_type": "heading",
     "level": 2,
     "metadata": {},
     "source": [
      "Pair Excercise:"
     ]
    },
    {
     "cell_type": "heading",
     "level": 3,
     "metadata": {},
     "source": [
      "1. Run the same model with LPM"
     ]
    },
    {
     "cell_type": "code",
     "collapsed": false,
     "input": [],
     "language": "python",
     "metadata": {},
     "outputs": []
    },
    {
     "cell_type": "heading",
     "level": 3,
     "metadata": {},
     "source": [
      "2. Predict y_hat"
     ]
    },
    {
     "cell_type": "code",
     "collapsed": false,
     "input": [],
     "language": "python",
     "metadata": {},
     "outputs": []
    },
    {
     "cell_type": "heading",
     "level": 3,
     "metadata": {},
     "source": [
      "3. Plot the distribution of y_hat, is there a problem?"
     ]
    },
    {
     "cell_type": "code",
     "collapsed": false,
     "input": [],
     "language": "python",
     "metadata": {},
     "outputs": []
    },
    {
     "cell_type": "heading",
     "level": 3,
     "metadata": {},
     "source": [
      "4. Plot the distribution of y_hat from the logit model, is there a problem?"
     ]
    },
    {
     "cell_type": "code",
     "collapsed": false,
     "input": [],
     "language": "python",
     "metadata": {},
     "outputs": []
    },
    {
     "cell_type": "heading",
     "level": 2,
     "metadata": {},
     "source": [
      "On your own:"
     ]
    },
    {
     "cell_type": "heading",
     "level": 3,
     "metadata": {},
     "source": [
      "1. Run the next logit model:"
     ]
    },
    {
     "cell_type": "heading",
     "level": 4,
     "metadata": {},
     "source": [
      "y = bundel (if buyera are buying milk in bundels)\n"
     ]
    },
    {
     "cell_type": "heading",
     "level": 4,
     "metadata": {},
     "source": [
      "x = product, full_price, full_pri, promo, disc_pricem, time_day, repeated"
     ]
    },
    {
     "cell_type": "code",
     "collapsed": false,
     "input": [],
     "language": "python",
     "metadata": {},
     "outputs": []
    },
    {
     "cell_type": "heading",
     "level": 3,
     "metadata": {},
     "source": [
      "2. Are consumer more likley to buy 2% milk vs. fat-milk? yes or no? explain"
     ]
    },
    {
     "cell_type": "code",
     "collapsed": false,
     "input": [],
     "language": "python",
     "metadata": {},
     "outputs": []
    },
    {
     "cell_type": "heading",
     "level": 3,
     "metadata": {},
     "source": [
      "3. Is the effect of promotion negative or positive on the outcome (Ignore significance)? Can promotions drive consumer to buy in boundle?"
     ]
    },
    {
     "cell_type": "code",
     "collapsed": false,
     "input": [],
     "language": "python",
     "metadata": {},
     "outputs": []
    },
    {
     "cell_type": "heading",
     "level": 3,
     "metadata": {},
     "source": [
      "4. Calculate the odds ratio for this regression"
     ]
    },
    {
     "cell_type": "code",
     "collapsed": false,
     "input": [],
     "language": "python",
     "metadata": {},
     "outputs": []
    },
    {
     "cell_type": "heading",
     "level": 3,
     "metadata": {},
     "source": [
      "5. Can you think, with the results we got from this regression, about a strategy to convert consumers to buy halthier milk (2%) rather than fat-milk? "
     ]
    },
    {
     "cell_type": "code",
     "collapsed": false,
     "input": [],
     "language": "python",
     "metadata": {},
     "outputs": []
    },
    {
     "cell_type": "markdown",
     "metadata": {},
     "source": [
      "---"
     ]
    },
    {
     "cell_type": "heading",
     "level": 1,
     "metadata": {},
     "source": [
      "Don't forget to fill out: http://tinyurl.com/dat-exit-ticket !"
     ]
    }
   ],
   "metadata": {}
  }
 ]
}